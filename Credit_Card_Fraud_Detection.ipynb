{
 "cells": [
  {
   "cell_type": "code",
   "execution_count": 2,
   "metadata": {
    "colab": {
     "base_uri": "https://localhost:8080/"
    },
    "id": "-nkwmZRmVzEs",
    "outputId": "a34620cd-71c7-4740-efa2-0bebd014deb1"
   },
   "outputs": [
    {
     "name": "stdout",
     "output_type": "stream",
     "text": [
      "Drive already mounted at /content/gdrive; to attempt to forcibly remount, call drive.mount(\"/content/gdrive\", force_remount=True).\n"
     ]
    }
   ],
   "source": [
    "from google.colab import drive\n",
    "drive.mount('/content/gdrive')"
   ]
  },
  {
   "cell_type": "code",
   "execution_count": 3,
   "metadata": {
    "id": "vJAE7raIV_62"
   },
   "outputs": [],
   "source": [
    "# Supress Warnings\n",
    "import warnings\n",
    "warnings.filterwarnings('ignore')"
   ]
  },
  {
   "cell_type": "code",
   "execution_count": 4,
   "metadata": {
    "id": "pXNneMrLXzuP"
   },
   "outputs": [],
   "source": [
    "# Import Necessary Libraries\n",
    "import numpy as np\n",
    "import pandas as pd\n",
    "import seaborn as sns\n",
    "import matplotlib.pyplot as plt"
   ]
  },
  {
   "cell_type": "markdown",
   "metadata": {
    "id": "tkbxfhPJrv3n"
   },
   "source": [
    "# 1. Read and Understand The Dataset"
   ]
  },
  {
   "cell_type": "markdown",
   "metadata": {
    "id": "iIzOqo7dsF-d"
   },
   "source": [
    "## 1.1 Read and Import"
   ]
  },
  {
   "cell_type": "code",
   "execution_count": 5,
   "metadata": {
    "id": "KT5IFGTYX9Ag"
   },
   "outputs": [],
   "source": [
    "df_train = pd.read_csv(\"/content/gdrive/MyDrive/Capstone Project/fraudTrain.csv\")\n",
    "df_test = pd.read_csv(\"/content/gdrive/MyDrive/Capstone Project/fraudTest.csv\")"
   ]
  },
  {
   "cell_type": "code",
   "execution_count": 6,
   "metadata": {
    "colab": {
     "base_uri": "https://localhost:8080/",
     "height": 517
    },
    "id": "WG7GmaE3_GDD",
    "outputId": "b4677916-c3a0-4ab7-aaae-868e87501fcb"
   },
   "outputs": [
    {
     "data": {
      "text/html": [
       "<div>\n",
       "<style scoped>\n",
       "    .dataframe tbody tr th:only-of-type {\n",
       "        vertical-align: middle;\n",
       "    }\n",
       "\n",
       "    .dataframe tbody tr th {\n",
       "        vertical-align: top;\n",
       "    }\n",
       "\n",
       "    .dataframe thead th {\n",
       "        text-align: right;\n",
       "    }\n",
       "</style>\n",
       "<table border=\"1\" class=\"dataframe\">\n",
       "  <thead>\n",
       "    <tr style=\"text-align: right;\">\n",
       "      <th></th>\n",
       "      <th>Unnamed: 0</th>\n",
       "      <th>trans_date_trans_time</th>\n",
       "      <th>cc_num</th>\n",
       "      <th>merchant</th>\n",
       "      <th>category</th>\n",
       "      <th>amt</th>\n",
       "      <th>first</th>\n",
       "      <th>last</th>\n",
       "      <th>gender</th>\n",
       "      <th>street</th>\n",
       "      <th>city</th>\n",
       "      <th>state</th>\n",
       "      <th>zip</th>\n",
       "      <th>lat</th>\n",
       "      <th>long</th>\n",
       "      <th>city_pop</th>\n",
       "      <th>job</th>\n",
       "      <th>dob</th>\n",
       "      <th>trans_num</th>\n",
       "      <th>unix_time</th>\n",
       "      <th>merch_lat</th>\n",
       "      <th>merch_long</th>\n",
       "      <th>is_fraud</th>\n",
       "    </tr>\n",
       "  </thead>\n",
       "  <tbody>\n",
       "    <tr>\n",
       "      <th>0</th>\n",
       "      <td>0</td>\n",
       "      <td>2019-01-01 00:00:18</td>\n",
       "      <td>2703186189652095</td>\n",
       "      <td>fraud_Rippin, Kub and Mann</td>\n",
       "      <td>misc_net</td>\n",
       "      <td>4.97</td>\n",
       "      <td>Jennifer</td>\n",
       "      <td>Banks</td>\n",
       "      <td>F</td>\n",
       "      <td>561 Perry Cove</td>\n",
       "      <td>Moravian Falls</td>\n",
       "      <td>NC</td>\n",
       "      <td>28654</td>\n",
       "      <td>36.0788</td>\n",
       "      <td>-81.1781</td>\n",
       "      <td>3495</td>\n",
       "      <td>Psychologist, counselling</td>\n",
       "      <td>1988-03-09</td>\n",
       "      <td>0b242abb623afc578575680df30655b9</td>\n",
       "      <td>1325376018</td>\n",
       "      <td>36.011293</td>\n",
       "      <td>-82.048315</td>\n",
       "      <td>0</td>\n",
       "    </tr>\n",
       "    <tr>\n",
       "      <th>1</th>\n",
       "      <td>1</td>\n",
       "      <td>2019-01-01 00:00:44</td>\n",
       "      <td>630423337322</td>\n",
       "      <td>fraud_Heller, Gutmann and Zieme</td>\n",
       "      <td>grocery_pos</td>\n",
       "      <td>107.23</td>\n",
       "      <td>Stephanie</td>\n",
       "      <td>Gill</td>\n",
       "      <td>F</td>\n",
       "      <td>43039 Riley Greens Suite 393</td>\n",
       "      <td>Orient</td>\n",
       "      <td>WA</td>\n",
       "      <td>99160</td>\n",
       "      <td>48.8878</td>\n",
       "      <td>-118.2105</td>\n",
       "      <td>149</td>\n",
       "      <td>Special educational needs teacher</td>\n",
       "      <td>1978-06-21</td>\n",
       "      <td>1f76529f8574734946361c461b024d99</td>\n",
       "      <td>1325376044</td>\n",
       "      <td>49.159047</td>\n",
       "      <td>-118.186462</td>\n",
       "      <td>0</td>\n",
       "    </tr>\n",
       "    <tr>\n",
       "      <th>2</th>\n",
       "      <td>2</td>\n",
       "      <td>2019-01-01 00:00:51</td>\n",
       "      <td>38859492057661</td>\n",
       "      <td>fraud_Lind-Buckridge</td>\n",
       "      <td>entertainment</td>\n",
       "      <td>220.11</td>\n",
       "      <td>Edward</td>\n",
       "      <td>Sanchez</td>\n",
       "      <td>M</td>\n",
       "      <td>594 White Dale Suite 530</td>\n",
       "      <td>Malad City</td>\n",
       "      <td>ID</td>\n",
       "      <td>83252</td>\n",
       "      <td>42.1808</td>\n",
       "      <td>-112.2620</td>\n",
       "      <td>4154</td>\n",
       "      <td>Nature conservation officer</td>\n",
       "      <td>1962-01-19</td>\n",
       "      <td>a1a22d70485983eac12b5b88dad1cf95</td>\n",
       "      <td>1325376051</td>\n",
       "      <td>43.150704</td>\n",
       "      <td>-112.154481</td>\n",
       "      <td>0</td>\n",
       "    </tr>\n",
       "    <tr>\n",
       "      <th>3</th>\n",
       "      <td>3</td>\n",
       "      <td>2019-01-01 00:01:16</td>\n",
       "      <td>3534093764340240</td>\n",
       "      <td>fraud_Kutch, Hermiston and Farrell</td>\n",
       "      <td>gas_transport</td>\n",
       "      <td>45.00</td>\n",
       "      <td>Jeremy</td>\n",
       "      <td>White</td>\n",
       "      <td>M</td>\n",
       "      <td>9443 Cynthia Court Apt. 038</td>\n",
       "      <td>Boulder</td>\n",
       "      <td>MT</td>\n",
       "      <td>59632</td>\n",
       "      <td>46.2306</td>\n",
       "      <td>-112.1138</td>\n",
       "      <td>1939</td>\n",
       "      <td>Patent attorney</td>\n",
       "      <td>1967-01-12</td>\n",
       "      <td>6b849c168bdad6f867558c3793159a81</td>\n",
       "      <td>1325376076</td>\n",
       "      <td>47.034331</td>\n",
       "      <td>-112.561071</td>\n",
       "      <td>0</td>\n",
       "    </tr>\n",
       "    <tr>\n",
       "      <th>4</th>\n",
       "      <td>4</td>\n",
       "      <td>2019-01-01 00:03:06</td>\n",
       "      <td>375534208663984</td>\n",
       "      <td>fraud_Keeling-Crist</td>\n",
       "      <td>misc_pos</td>\n",
       "      <td>41.96</td>\n",
       "      <td>Tyler</td>\n",
       "      <td>Garcia</td>\n",
       "      <td>M</td>\n",
       "      <td>408 Bradley Rest</td>\n",
       "      <td>Doe Hill</td>\n",
       "      <td>VA</td>\n",
       "      <td>24433</td>\n",
       "      <td>38.4207</td>\n",
       "      <td>-79.4629</td>\n",
       "      <td>99</td>\n",
       "      <td>Dance movement psychotherapist</td>\n",
       "      <td>1986-03-28</td>\n",
       "      <td>a41d7549acf90789359a9aa5346dcb46</td>\n",
       "      <td>1325376186</td>\n",
       "      <td>38.674999</td>\n",
       "      <td>-78.632459</td>\n",
       "      <td>0</td>\n",
       "    </tr>\n",
       "  </tbody>\n",
       "</table>\n",
       "</div>"
      ],
      "text/plain": [
       "   Unnamed: 0 trans_date_trans_time  ...  merch_long is_fraud\n",
       "0           0   2019-01-01 00:00:18  ...  -82.048315        0\n",
       "1           1   2019-01-01 00:00:44  ... -118.186462        0\n",
       "2           2   2019-01-01 00:00:51  ... -112.154481        0\n",
       "3           3   2019-01-01 00:01:16  ... -112.561071        0\n",
       "4           4   2019-01-01 00:03:06  ...  -78.632459        0\n",
       "\n",
       "[5 rows x 23 columns]"
      ]
     },
     "execution_count": 6,
     "metadata": {
      "tags": []
     },
     "output_type": "execute_result"
    }
   ],
   "source": [
    "df_train.head()"
   ]
  },
  {
   "cell_type": "code",
   "execution_count": 7,
   "metadata": {
    "colab": {
     "base_uri": "https://localhost:8080/",
     "height": 447
    },
    "id": "xqfhoZr7_d_g",
    "outputId": "db98d4fd-3911-4a46-aa4b-8afc42e5b526"
   },
   "outputs": [
    {
     "data": {
      "text/html": [
       "<div>\n",
       "<style scoped>\n",
       "    .dataframe tbody tr th:only-of-type {\n",
       "        vertical-align: middle;\n",
       "    }\n",
       "\n",
       "    .dataframe tbody tr th {\n",
       "        vertical-align: top;\n",
       "    }\n",
       "\n",
       "    .dataframe thead th {\n",
       "        text-align: right;\n",
       "    }\n",
       "</style>\n",
       "<table border=\"1\" class=\"dataframe\">\n",
       "  <thead>\n",
       "    <tr style=\"text-align: right;\">\n",
       "      <th></th>\n",
       "      <th>Unnamed: 0</th>\n",
       "      <th>trans_date_trans_time</th>\n",
       "      <th>cc_num</th>\n",
       "      <th>merchant</th>\n",
       "      <th>category</th>\n",
       "      <th>amt</th>\n",
       "      <th>first</th>\n",
       "      <th>last</th>\n",
       "      <th>gender</th>\n",
       "      <th>street</th>\n",
       "      <th>city</th>\n",
       "      <th>state</th>\n",
       "      <th>zip</th>\n",
       "      <th>lat</th>\n",
       "      <th>long</th>\n",
       "      <th>city_pop</th>\n",
       "      <th>job</th>\n",
       "      <th>dob</th>\n",
       "      <th>trans_num</th>\n",
       "      <th>unix_time</th>\n",
       "      <th>merch_lat</th>\n",
       "      <th>merch_long</th>\n",
       "      <th>is_fraud</th>\n",
       "    </tr>\n",
       "  </thead>\n",
       "  <tbody>\n",
       "    <tr>\n",
       "      <th>0</th>\n",
       "      <td>0</td>\n",
       "      <td>2020-06-21 12:14:25</td>\n",
       "      <td>2291163933867244</td>\n",
       "      <td>fraud_Kirlin and Sons</td>\n",
       "      <td>personal_care</td>\n",
       "      <td>2.86</td>\n",
       "      <td>Jeff</td>\n",
       "      <td>Elliott</td>\n",
       "      <td>M</td>\n",
       "      <td>351 Darlene Green</td>\n",
       "      <td>Columbia</td>\n",
       "      <td>SC</td>\n",
       "      <td>29209</td>\n",
       "      <td>33.9659</td>\n",
       "      <td>-80.9355</td>\n",
       "      <td>333497</td>\n",
       "      <td>Mechanical engineer</td>\n",
       "      <td>1968-03-19</td>\n",
       "      <td>2da90c7d74bd46a0caf3777415b3ebd3</td>\n",
       "      <td>1371816865</td>\n",
       "      <td>33.986391</td>\n",
       "      <td>-81.200714</td>\n",
       "      <td>0</td>\n",
       "    </tr>\n",
       "    <tr>\n",
       "      <th>1</th>\n",
       "      <td>1</td>\n",
       "      <td>2020-06-21 12:14:33</td>\n",
       "      <td>3573030041201292</td>\n",
       "      <td>fraud_Sporer-Keebler</td>\n",
       "      <td>personal_care</td>\n",
       "      <td>29.84</td>\n",
       "      <td>Joanne</td>\n",
       "      <td>Williams</td>\n",
       "      <td>F</td>\n",
       "      <td>3638 Marsh Union</td>\n",
       "      <td>Altonah</td>\n",
       "      <td>UT</td>\n",
       "      <td>84002</td>\n",
       "      <td>40.3207</td>\n",
       "      <td>-110.4360</td>\n",
       "      <td>302</td>\n",
       "      <td>Sales professional, IT</td>\n",
       "      <td>1990-01-17</td>\n",
       "      <td>324cc204407e99f51b0d6ca0055005e7</td>\n",
       "      <td>1371816873</td>\n",
       "      <td>39.450498</td>\n",
       "      <td>-109.960431</td>\n",
       "      <td>0</td>\n",
       "    </tr>\n",
       "    <tr>\n",
       "      <th>2</th>\n",
       "      <td>2</td>\n",
       "      <td>2020-06-21 12:14:53</td>\n",
       "      <td>3598215285024754</td>\n",
       "      <td>fraud_Swaniawski, Nitzsche and Welch</td>\n",
       "      <td>health_fitness</td>\n",
       "      <td>41.28</td>\n",
       "      <td>Ashley</td>\n",
       "      <td>Lopez</td>\n",
       "      <td>F</td>\n",
       "      <td>9333 Valentine Point</td>\n",
       "      <td>Bellmore</td>\n",
       "      <td>NY</td>\n",
       "      <td>11710</td>\n",
       "      <td>40.6729</td>\n",
       "      <td>-73.5365</td>\n",
       "      <td>34496</td>\n",
       "      <td>Librarian, public</td>\n",
       "      <td>1970-10-21</td>\n",
       "      <td>c81755dbbbea9d5c77f094348a7579be</td>\n",
       "      <td>1371816893</td>\n",
       "      <td>40.495810</td>\n",
       "      <td>-74.196111</td>\n",
       "      <td>0</td>\n",
       "    </tr>\n",
       "    <tr>\n",
       "      <th>3</th>\n",
       "      <td>3</td>\n",
       "      <td>2020-06-21 12:15:15</td>\n",
       "      <td>3591919803438423</td>\n",
       "      <td>fraud_Haley Group</td>\n",
       "      <td>misc_pos</td>\n",
       "      <td>60.05</td>\n",
       "      <td>Brian</td>\n",
       "      <td>Williams</td>\n",
       "      <td>M</td>\n",
       "      <td>32941 Krystal Mill Apt. 552</td>\n",
       "      <td>Titusville</td>\n",
       "      <td>FL</td>\n",
       "      <td>32780</td>\n",
       "      <td>28.5697</td>\n",
       "      <td>-80.8191</td>\n",
       "      <td>54767</td>\n",
       "      <td>Set designer</td>\n",
       "      <td>1987-07-25</td>\n",
       "      <td>2159175b9efe66dc301f149d3d5abf8c</td>\n",
       "      <td>1371816915</td>\n",
       "      <td>28.812398</td>\n",
       "      <td>-80.883061</td>\n",
       "      <td>0</td>\n",
       "    </tr>\n",
       "    <tr>\n",
       "      <th>4</th>\n",
       "      <td>4</td>\n",
       "      <td>2020-06-21 12:15:17</td>\n",
       "      <td>3526826139003047</td>\n",
       "      <td>fraud_Johnston-Casper</td>\n",
       "      <td>travel</td>\n",
       "      <td>3.19</td>\n",
       "      <td>Nathan</td>\n",
       "      <td>Massey</td>\n",
       "      <td>M</td>\n",
       "      <td>5783 Evan Roads Apt. 465</td>\n",
       "      <td>Falmouth</td>\n",
       "      <td>MI</td>\n",
       "      <td>49632</td>\n",
       "      <td>44.2529</td>\n",
       "      <td>-85.0170</td>\n",
       "      <td>1126</td>\n",
       "      <td>Furniture designer</td>\n",
       "      <td>1955-07-06</td>\n",
       "      <td>57ff021bd3f328f8738bb535c302a31b</td>\n",
       "      <td>1371816917</td>\n",
       "      <td>44.959148</td>\n",
       "      <td>-85.884734</td>\n",
       "      <td>0</td>\n",
       "    </tr>\n",
       "  </tbody>\n",
       "</table>\n",
       "</div>"
      ],
      "text/plain": [
       "   Unnamed: 0 trans_date_trans_time  ...  merch_long is_fraud\n",
       "0           0   2020-06-21 12:14:25  ...  -81.200714        0\n",
       "1           1   2020-06-21 12:14:33  ... -109.960431        0\n",
       "2           2   2020-06-21 12:14:53  ...  -74.196111        0\n",
       "3           3   2020-06-21 12:15:15  ...  -80.883061        0\n",
       "4           4   2020-06-21 12:15:17  ...  -85.884734        0\n",
       "\n",
       "[5 rows x 23 columns]"
      ]
     },
     "execution_count": 7,
     "metadata": {
      "tags": []
     },
     "output_type": "execute_result"
    }
   ],
   "source": [
    "df_test.head()"
   ]
  },
  {
   "cell_type": "markdown",
   "metadata": {
    "id": "IEwvFMDhsQNZ"
   },
   "source": [
    "##1.2 Inspect The Dataframes"
   ]
  },
  {
   "cell_type": "markdown",
   "metadata": {
    "id": "xZT3ltEhsYKA"
   },
   "source": [
    "Inspecting the dataframe's columns, shapes, variable types etc."
   ]
  },
  {
   "cell_type": "code",
   "execution_count": 8,
   "metadata": {
    "colab": {
     "base_uri": "https://localhost:8080/"
    },
    "id": "5k6q1KXX_mbk",
    "outputId": "0842e51e-29a6-4df0-85b4-761175d0111c"
   },
   "outputs": [
    {
     "name": "stdout",
     "output_type": "stream",
     "text": [
      "(1296675, 23)\n",
      "(555719, 23)\n"
     ]
    }
   ],
   "source": [
    "# Checking the shape of the dataset\n",
    "print(df_train.shape)\n",
    "print(df_test.shape)"
   ]
  },
  {
   "cell_type": "code",
   "execution_count": 9,
   "metadata": {
    "colab": {
     "base_uri": "https://localhost:8080/"
    },
    "id": "Syj0nSFYYsGs",
    "outputId": "6debe8bc-cace-4be0-d61b-a10f7ef9736a"
   },
   "outputs": [
    {
     "data": {
      "text/plain": [
       "Unnamed: 0               0\n",
       "trans_date_trans_time    0\n",
       "cc_num                   0\n",
       "merchant                 0\n",
       "category                 0\n",
       "amt                      0\n",
       "first                    0\n",
       "last                     0\n",
       "gender                   0\n",
       "street                   0\n",
       "city                     0\n",
       "state                    0\n",
       "zip                      0\n",
       "lat                      0\n",
       "long                     0\n",
       "city_pop                 0\n",
       "job                      0\n",
       "dob                      0\n",
       "trans_num                0\n",
       "unix_time                0\n",
       "merch_lat                0\n",
       "merch_long               0\n",
       "is_fraud                 0\n",
       "dtype: int64"
      ]
     },
     "execution_count": 9,
     "metadata": {
      "tags": []
     },
     "output_type": "execute_result"
    }
   ],
   "source": [
    "df_train.isnull().sum()"
   ]
  },
  {
   "cell_type": "markdown",
   "metadata": {
    "id": "LtAGRyfHWEak"
   },
   "source": [
    "There are no null values in training set."
   ]
  },
  {
   "cell_type": "code",
   "execution_count": 10,
   "metadata": {
    "colab": {
     "base_uri": "https://localhost:8080/"
    },
    "id": "xN4nNswMY0js",
    "outputId": "4325df6d-8ca6-4ad0-ed01-900f7da0b3ab"
   },
   "outputs": [
    {
     "data": {
      "text/plain": [
       "Unnamed: 0               0\n",
       "trans_date_trans_time    0\n",
       "cc_num                   0\n",
       "merchant                 0\n",
       "category                 0\n",
       "amt                      0\n",
       "first                    0\n",
       "last                     0\n",
       "gender                   0\n",
       "street                   0\n",
       "city                     0\n",
       "state                    0\n",
       "zip                      0\n",
       "lat                      0\n",
       "long                     0\n",
       "city_pop                 0\n",
       "job                      0\n",
       "dob                      0\n",
       "trans_num                0\n",
       "unix_time                0\n",
       "merch_lat                0\n",
       "merch_long               0\n",
       "is_fraud                 0\n",
       "dtype: int64"
      ]
     },
     "execution_count": 10,
     "metadata": {
      "tags": []
     },
     "output_type": "execute_result"
    }
   ],
   "source": [
    "df_test.isnull().sum()"
   ]
  },
  {
   "cell_type": "markdown",
   "metadata": {
    "id": "mvTZDoU6WJ-S"
   },
   "source": [
    "There is no missing value in the test set."
   ]
  },
  {
   "cell_type": "code",
   "execution_count": 11,
   "metadata": {
    "id": "5nHsQ0rfitGZ"
   },
   "outputs": [],
   "source": [
    "# Concatenate both train and test set\n",
    "fraud = pd.concat([df_train,df_test],axis=0)"
   ]
  },
  {
   "cell_type": "markdown",
   "metadata": {
    "id": "sdh037UKhnVS"
   },
   "source": [
    "#2. Data Cleaning and Data Preparation"
   ]
  },
  {
   "cell_type": "markdown",
   "metadata": {
    "id": "pdrlIZ-QiePd"
   },
   "source": [
    "## 2.1 Check for Duplicate Values"
   ]
  },
  {
   "cell_type": "code",
   "execution_count": 12,
   "metadata": {
    "colab": {
     "base_uri": "https://localhost:8080/"
    },
    "id": "epbcHHsFjDg4",
    "outputId": "8e8c0e58-33b4-49bd-a66e-d5bbce2ba275"
   },
   "outputs": [
    {
     "name": "stdout",
     "output_type": "stream",
     "text": [
      "0\n"
     ]
    }
   ],
   "source": [
    "print(sum(fraud.duplicated() == True))"
   ]
  },
  {
   "cell_type": "markdown",
   "metadata": {
    "id": "MaKc8R9zjMA4"
   },
   "source": [
    "There are no duplicate rows in the dataset."
   ]
  },
  {
   "cell_type": "code",
   "execution_count": 13,
   "metadata": {
    "colab": {
     "base_uri": "https://localhost:8080/"
    },
    "id": "Ib5fFrQPi53V",
    "outputId": "b6b76ee3-f6bc-44e1-df0b-52dcccafbd91"
   },
   "outputs": [
    {
     "data": {
      "text/plain": [
       "(1852394, 23)"
      ]
     },
     "execution_count": 13,
     "metadata": {
      "tags": []
     },
     "output_type": "execute_result"
    }
   ],
   "source": [
    "fraud.shape"
   ]
  },
  {
   "cell_type": "markdown",
   "metadata": {
    "id": "GXqI3535WcVu"
   },
   "source": [
    "There are 1852394 rows and 23 columns in the entire combined dataset."
   ]
  },
  {
   "cell_type": "code",
   "execution_count": 14,
   "metadata": {
    "colab": {
     "base_uri": "https://localhost:8080/",
     "height": 517
    },
    "id": "BF2bn4wBZJrd",
    "outputId": "8370c851-499e-473c-851e-151e5d37f642"
   },
   "outputs": [
    {
     "data": {
      "text/html": [
       "<div>\n",
       "<style scoped>\n",
       "    .dataframe tbody tr th:only-of-type {\n",
       "        vertical-align: middle;\n",
       "    }\n",
       "\n",
       "    .dataframe tbody tr th {\n",
       "        vertical-align: top;\n",
       "    }\n",
       "\n",
       "    .dataframe thead th {\n",
       "        text-align: right;\n",
       "    }\n",
       "</style>\n",
       "<table border=\"1\" class=\"dataframe\">\n",
       "  <thead>\n",
       "    <tr style=\"text-align: right;\">\n",
       "      <th></th>\n",
       "      <th>Unnamed: 0</th>\n",
       "      <th>trans_date_trans_time</th>\n",
       "      <th>cc_num</th>\n",
       "      <th>merchant</th>\n",
       "      <th>category</th>\n",
       "      <th>amt</th>\n",
       "      <th>first</th>\n",
       "      <th>last</th>\n",
       "      <th>gender</th>\n",
       "      <th>street</th>\n",
       "      <th>city</th>\n",
       "      <th>state</th>\n",
       "      <th>zip</th>\n",
       "      <th>lat</th>\n",
       "      <th>long</th>\n",
       "      <th>city_pop</th>\n",
       "      <th>job</th>\n",
       "      <th>dob</th>\n",
       "      <th>trans_num</th>\n",
       "      <th>unix_time</th>\n",
       "      <th>merch_lat</th>\n",
       "      <th>merch_long</th>\n",
       "      <th>is_fraud</th>\n",
       "    </tr>\n",
       "  </thead>\n",
       "  <tbody>\n",
       "    <tr>\n",
       "      <th>0</th>\n",
       "      <td>0</td>\n",
       "      <td>2019-01-01 00:00:18</td>\n",
       "      <td>2703186189652095</td>\n",
       "      <td>fraud_Rippin, Kub and Mann</td>\n",
       "      <td>misc_net</td>\n",
       "      <td>4.97</td>\n",
       "      <td>Jennifer</td>\n",
       "      <td>Banks</td>\n",
       "      <td>F</td>\n",
       "      <td>561 Perry Cove</td>\n",
       "      <td>Moravian Falls</td>\n",
       "      <td>NC</td>\n",
       "      <td>28654</td>\n",
       "      <td>36.0788</td>\n",
       "      <td>-81.1781</td>\n",
       "      <td>3495</td>\n",
       "      <td>Psychologist, counselling</td>\n",
       "      <td>1988-03-09</td>\n",
       "      <td>0b242abb623afc578575680df30655b9</td>\n",
       "      <td>1325376018</td>\n",
       "      <td>36.011293</td>\n",
       "      <td>-82.048315</td>\n",
       "      <td>0</td>\n",
       "    </tr>\n",
       "    <tr>\n",
       "      <th>1</th>\n",
       "      <td>1</td>\n",
       "      <td>2019-01-01 00:00:44</td>\n",
       "      <td>630423337322</td>\n",
       "      <td>fraud_Heller, Gutmann and Zieme</td>\n",
       "      <td>grocery_pos</td>\n",
       "      <td>107.23</td>\n",
       "      <td>Stephanie</td>\n",
       "      <td>Gill</td>\n",
       "      <td>F</td>\n",
       "      <td>43039 Riley Greens Suite 393</td>\n",
       "      <td>Orient</td>\n",
       "      <td>WA</td>\n",
       "      <td>99160</td>\n",
       "      <td>48.8878</td>\n",
       "      <td>-118.2105</td>\n",
       "      <td>149</td>\n",
       "      <td>Special educational needs teacher</td>\n",
       "      <td>1978-06-21</td>\n",
       "      <td>1f76529f8574734946361c461b024d99</td>\n",
       "      <td>1325376044</td>\n",
       "      <td>49.159047</td>\n",
       "      <td>-118.186462</td>\n",
       "      <td>0</td>\n",
       "    </tr>\n",
       "    <tr>\n",
       "      <th>2</th>\n",
       "      <td>2</td>\n",
       "      <td>2019-01-01 00:00:51</td>\n",
       "      <td>38859492057661</td>\n",
       "      <td>fraud_Lind-Buckridge</td>\n",
       "      <td>entertainment</td>\n",
       "      <td>220.11</td>\n",
       "      <td>Edward</td>\n",
       "      <td>Sanchez</td>\n",
       "      <td>M</td>\n",
       "      <td>594 White Dale Suite 530</td>\n",
       "      <td>Malad City</td>\n",
       "      <td>ID</td>\n",
       "      <td>83252</td>\n",
       "      <td>42.1808</td>\n",
       "      <td>-112.2620</td>\n",
       "      <td>4154</td>\n",
       "      <td>Nature conservation officer</td>\n",
       "      <td>1962-01-19</td>\n",
       "      <td>a1a22d70485983eac12b5b88dad1cf95</td>\n",
       "      <td>1325376051</td>\n",
       "      <td>43.150704</td>\n",
       "      <td>-112.154481</td>\n",
       "      <td>0</td>\n",
       "    </tr>\n",
       "    <tr>\n",
       "      <th>3</th>\n",
       "      <td>3</td>\n",
       "      <td>2019-01-01 00:01:16</td>\n",
       "      <td>3534093764340240</td>\n",
       "      <td>fraud_Kutch, Hermiston and Farrell</td>\n",
       "      <td>gas_transport</td>\n",
       "      <td>45.00</td>\n",
       "      <td>Jeremy</td>\n",
       "      <td>White</td>\n",
       "      <td>M</td>\n",
       "      <td>9443 Cynthia Court Apt. 038</td>\n",
       "      <td>Boulder</td>\n",
       "      <td>MT</td>\n",
       "      <td>59632</td>\n",
       "      <td>46.2306</td>\n",
       "      <td>-112.1138</td>\n",
       "      <td>1939</td>\n",
       "      <td>Patent attorney</td>\n",
       "      <td>1967-01-12</td>\n",
       "      <td>6b849c168bdad6f867558c3793159a81</td>\n",
       "      <td>1325376076</td>\n",
       "      <td>47.034331</td>\n",
       "      <td>-112.561071</td>\n",
       "      <td>0</td>\n",
       "    </tr>\n",
       "    <tr>\n",
       "      <th>4</th>\n",
       "      <td>4</td>\n",
       "      <td>2019-01-01 00:03:06</td>\n",
       "      <td>375534208663984</td>\n",
       "      <td>fraud_Keeling-Crist</td>\n",
       "      <td>misc_pos</td>\n",
       "      <td>41.96</td>\n",
       "      <td>Tyler</td>\n",
       "      <td>Garcia</td>\n",
       "      <td>M</td>\n",
       "      <td>408 Bradley Rest</td>\n",
       "      <td>Doe Hill</td>\n",
       "      <td>VA</td>\n",
       "      <td>24433</td>\n",
       "      <td>38.4207</td>\n",
       "      <td>-79.4629</td>\n",
       "      <td>99</td>\n",
       "      <td>Dance movement psychotherapist</td>\n",
       "      <td>1986-03-28</td>\n",
       "      <td>a41d7549acf90789359a9aa5346dcb46</td>\n",
       "      <td>1325376186</td>\n",
       "      <td>38.674999</td>\n",
       "      <td>-78.632459</td>\n",
       "      <td>0</td>\n",
       "    </tr>\n",
       "  </tbody>\n",
       "</table>\n",
       "</div>"
      ],
      "text/plain": [
       "   Unnamed: 0 trans_date_trans_time  ...  merch_long is_fraud\n",
       "0           0   2019-01-01 00:00:18  ...  -82.048315        0\n",
       "1           1   2019-01-01 00:00:44  ... -118.186462        0\n",
       "2           2   2019-01-01 00:00:51  ... -112.154481        0\n",
       "3           3   2019-01-01 00:01:16  ... -112.561071        0\n",
       "4           4   2019-01-01 00:03:06  ...  -78.632459        0\n",
       "\n",
       "[5 rows x 23 columns]"
      ]
     },
     "execution_count": 14,
     "metadata": {
      "tags": []
     },
     "output_type": "execute_result"
    }
   ],
   "source": [
    "fraud.head()"
   ]
  },
  {
   "cell_type": "code",
   "execution_count": 15,
   "metadata": {
    "colab": {
     "base_uri": "https://localhost:8080/"
    },
    "id": "UpNB9FgwtwFZ",
    "outputId": "41390103-0c81-40bc-9980-015477c91329"
   },
   "outputs": [
    {
     "name": "stdout",
     "output_type": "stream",
     "text": [
      "<class 'pandas.core.frame.DataFrame'>\n",
      "Int64Index: 1852394 entries, 0 to 555718\n",
      "Data columns (total 23 columns):\n",
      " #   Column                 Dtype  \n",
      "---  ------                 -----  \n",
      " 0   Unnamed: 0             int64  \n",
      " 1   trans_date_trans_time  object \n",
      " 2   cc_num                 int64  \n",
      " 3   merchant               object \n",
      " 4   category               object \n",
      " 5   amt                    float64\n",
      " 6   first                  object \n",
      " 7   last                   object \n",
      " 8   gender                 object \n",
      " 9   street                 object \n",
      " 10  city                   object \n",
      " 11  state                  object \n",
      " 12  zip                    int64  \n",
      " 13  lat                    float64\n",
      " 14  long                   float64\n",
      " 15  city_pop               int64  \n",
      " 16  job                    object \n",
      " 17  dob                    object \n",
      " 18  trans_num              object \n",
      " 19  unix_time              int64  \n",
      " 20  merch_lat              float64\n",
      " 21  merch_long             float64\n",
      " 22  is_fraud               int64  \n",
      "dtypes: float64(5), int64(6), object(12)\n",
      "memory usage: 339.2+ MB\n"
     ]
    }
   ],
   "source": [
    "fraud.info()"
   ]
  },
  {
   "cell_type": "code",
   "execution_count": 16,
   "metadata": {
    "colab": {
     "base_uri": "https://localhost:8080/"
    },
    "id": "13M8Pn9cZmgN",
    "outputId": "c6d9deda-316f-4d0a-adaf-cbf146cf3c0a"
   },
   "outputs": [
    {
     "data": {
      "text/plain": [
       "24"
      ]
     },
     "execution_count": 16,
     "metadata": {
      "tags": []
     },
     "output_type": "execute_result"
    }
   ],
   "source": [
    "no_of_months = pd.to_datetime(fraud['trans_date_trans_time']).dt.to_period('M').nunique()\n",
    "no_of_months"
   ]
  },
  {
   "cell_type": "markdown",
   "metadata": {
    "id": "lCAtR6BPZNVT"
   },
   "source": [
    "This dataset contains transaction details of 24 months."
   ]
  },
  {
   "cell_type": "code",
   "execution_count": 17,
   "metadata": {
    "colab": {
     "base_uri": "https://localhost:8080/"
    },
    "id": "thErCNqpZq0Z",
    "outputId": "63489f79-0fe6-4e1f-af35-f7849ca2eaa8"
   },
   "outputs": [
    {
     "data": {
      "text/plain": [
       "77183.08333333333"
      ]
     },
     "execution_count": 17,
     "metadata": {
      "tags": []
     },
     "output_type": "execute_result"
    }
   ],
   "source": [
    "# Average number of transactions per month\n",
    "avg_trans_per_month = fraud.shape[0]/no_of_months\n",
    "avg_trans_per_month"
   ]
  },
  {
   "cell_type": "markdown",
   "metadata": {
    "id": "BfvFrcYQaIKy"
   },
   "source": [
    "The average number of transactions per month is 77183."
   ]
  },
  {
   "cell_type": "code",
   "execution_count": 18,
   "metadata": {
    "colab": {
     "base_uri": "https://localhost:8080/"
    },
    "id": "uyFTQMUhaakn",
    "outputId": "db54d360-c304-4979-c742-a9e400ed811d"
   },
   "outputs": [
    {
     "data": {
      "text/plain": [
       "402.125"
      ]
     },
     "execution_count": 18,
     "metadata": {
      "tags": []
     },
     "output_type": "execute_result"
    }
   ],
   "source": [
    "# Average number of fraudulent transaction per month\n",
    "avg_fraud_trans_per_month = fraud[fraud['is_fraud']==1]['trans_num'].count()/no_of_months\n",
    "avg_fraud_trans_per_month"
   ]
  },
  {
   "cell_type": "markdown",
   "metadata": {
    "id": "OKyePCvabMWn"
   },
   "source": [
    "The average number of fraudulent transactions per month is 402."
   ]
  },
  {
   "cell_type": "code",
   "execution_count": 19,
   "metadata": {
    "colab": {
     "base_uri": "https://localhost:8080/",
     "height": 355
    },
    "id": "aUlDpnXzuOWU",
    "outputId": "2e774b6e-175c-4715-ae2c-065b08ba3715"
   },
   "outputs": [
    {
     "data": {
      "text/html": [
       "<div>\n",
       "<style scoped>\n",
       "    .dataframe tbody tr th:only-of-type {\n",
       "        vertical-align: middle;\n",
       "    }\n",
       "\n",
       "    .dataframe tbody tr th {\n",
       "        vertical-align: top;\n",
       "    }\n",
       "\n",
       "    .dataframe thead th {\n",
       "        text-align: right;\n",
       "    }\n",
       "</style>\n",
       "<table border=\"1\" class=\"dataframe\">\n",
       "  <thead>\n",
       "    <tr style=\"text-align: right;\">\n",
       "      <th></th>\n",
       "      <th>trans_date_trans_time</th>\n",
       "      <th>unix_time</th>\n",
       "    </tr>\n",
       "  </thead>\n",
       "  <tbody>\n",
       "    <tr>\n",
       "      <th>0</th>\n",
       "      <td>2019-01-01 00:00:18</td>\n",
       "      <td>2012-01-01 00:00:18</td>\n",
       "    </tr>\n",
       "    <tr>\n",
       "      <th>1</th>\n",
       "      <td>2019-01-01 00:00:44</td>\n",
       "      <td>2012-01-01 00:00:44</td>\n",
       "    </tr>\n",
       "    <tr>\n",
       "      <th>2</th>\n",
       "      <td>2019-01-01 00:00:51</td>\n",
       "      <td>2012-01-01 00:00:51</td>\n",
       "    </tr>\n",
       "    <tr>\n",
       "      <th>3</th>\n",
       "      <td>2019-01-01 00:01:16</td>\n",
       "      <td>2012-01-01 00:01:16</td>\n",
       "    </tr>\n",
       "    <tr>\n",
       "      <th>4</th>\n",
       "      <td>2019-01-01 00:03:06</td>\n",
       "      <td>2012-01-01 00:03:06</td>\n",
       "    </tr>\n",
       "    <tr>\n",
       "      <th>5</th>\n",
       "      <td>2019-01-01 00:04:08</td>\n",
       "      <td>2012-01-01 00:04:08</td>\n",
       "    </tr>\n",
       "    <tr>\n",
       "      <th>6</th>\n",
       "      <td>2019-01-01 00:04:42</td>\n",
       "      <td>2012-01-01 00:04:42</td>\n",
       "    </tr>\n",
       "    <tr>\n",
       "      <th>7</th>\n",
       "      <td>2019-01-01 00:05:08</td>\n",
       "      <td>2012-01-01 00:05:08</td>\n",
       "    </tr>\n",
       "    <tr>\n",
       "      <th>8</th>\n",
       "      <td>2019-01-01 00:05:18</td>\n",
       "      <td>2012-01-01 00:05:18</td>\n",
       "    </tr>\n",
       "    <tr>\n",
       "      <th>9</th>\n",
       "      <td>2019-01-01 00:06:01</td>\n",
       "      <td>2012-01-01 00:06:01</td>\n",
       "    </tr>\n",
       "  </tbody>\n",
       "</table>\n",
       "</div>"
      ],
      "text/plain": [
       "  trans_date_trans_time           unix_time\n",
       "0   2019-01-01 00:00:18 2012-01-01 00:00:18\n",
       "1   2019-01-01 00:00:44 2012-01-01 00:00:44\n",
       "2   2019-01-01 00:00:51 2012-01-01 00:00:51\n",
       "3   2019-01-01 00:01:16 2012-01-01 00:01:16\n",
       "4   2019-01-01 00:03:06 2012-01-01 00:03:06\n",
       "5   2019-01-01 00:04:08 2012-01-01 00:04:08\n",
       "6   2019-01-01 00:04:42 2012-01-01 00:04:42\n",
       "7   2019-01-01 00:05:08 2012-01-01 00:05:08\n",
       "8   2019-01-01 00:05:18 2012-01-01 00:05:18\n",
       "9   2019-01-01 00:06:01 2012-01-01 00:06:01"
      ]
     },
     "execution_count": 19,
     "metadata": {
      "tags": []
     },
     "output_type": "execute_result"
    }
   ],
   "source": [
    "fraud['unix_time'] = pd.to_datetime(fraud['unix_time'],unit='s')\n",
    "fraud[['trans_date_trans_time','unix_time']].head(10)"
   ]
  },
  {
   "cell_type": "markdown",
   "metadata": {
    "id": "w6USYN_EYHl9"
   },
   "source": [
    "There seems to be 7 years difference between 'trans_date_trans_time' and 'unix_time'. Let's add these two columns to the list of 'col_to_drop' as these columns will not provide much value addition to our model."
   ]
  },
  {
   "cell_type": "code",
   "execution_count": 20,
   "metadata": {
    "id": "jUwkD-_DeF-L"
   },
   "outputs": [],
   "source": [
    "# Make a list of unwanted columns which can be dropped\n",
    "col_to_drop = ['Unnamed: 0', 'trans_date_trans_time', 'cc_num', 'first', 'last', 'trans_num','unix_time']"
   ]
  },
  {
   "cell_type": "code",
   "execution_count": 21,
   "metadata": {
    "colab": {
     "base_uri": "https://localhost:8080/"
    },
    "id": "ggb4dq2Hp6vf",
    "outputId": "46aee05d-1c33-4347-96a3-c5e38fa53f22"
   },
   "outputs": [
    {
     "data": {
      "text/plain": [
       "530.661412288882"
      ]
     },
     "execution_count": 21,
     "metadata": {
      "tags": []
     },
     "output_type": "execute_result"
    }
   ],
   "source": [
    "# Average amount per fraud transaction\n",
    "avg_amt_per_fraud_trans = fraud[fraud['is_fraud'] == 1].amt.sum()/fraud[fraud['is_fraud']==1]['trans_num'].count()\n",
    "avg_amt_per_fraud_trans"
   ]
  },
  {
   "cell_type": "markdown",
   "metadata": {
    "id": "Gy4xCk-hd4mk"
   },
   "source": [
    "The average amount per fraud transaction is 530.66"
   ]
  },
  {
   "cell_type": "markdown",
   "metadata": {
    "id": "HjoD0-5flUwG"
   },
   "source": [
    "## 2.2 Drop Less Significant Columns"
   ]
  },
  {
   "cell_type": "code",
   "execution_count": 22,
   "metadata": {
    "colab": {
     "base_uri": "https://localhost:8080/"
    },
    "id": "rQl-KE4ulTcW",
    "outputId": "46882c1e-ae68-4fed-b84e-16963938f07c"
   },
   "outputs": [
    {
     "data": {
      "text/plain": [
       "(1852394, 16)"
      ]
     },
     "execution_count": 22,
     "metadata": {
      "tags": []
     },
     "output_type": "execute_result"
    }
   ],
   "source": [
    "fraud = fraud.drop(col_to_drop, axis=1)\n",
    "fraud.shape"
   ]
  },
  {
   "cell_type": "markdown",
   "metadata": {
    "id": "-F4e5rbuxiEf"
   },
   "source": [
    "## 2.3 Derived Features"
   ]
  },
  {
   "cell_type": "code",
   "execution_count": 23,
   "metadata": {
    "colab": {
     "base_uri": "https://localhost:8080/"
    },
    "id": "R_0usMFB19fW",
    "outputId": "a510f122-bc9d-4399-cea1-66830e6de254"
   },
   "outputs": [
    {
     "data": {
      "text/plain": [
       "0     78.773821\n",
       "1     30.216618\n",
       "2    108.102912\n",
       "3     95.685115\n",
       "4     77.702395\n",
       "Name: distance, dtype: float64"
      ]
     },
     "execution_count": 23,
     "metadata": {
      "tags": []
     },
     "output_type": "execute_result"
    }
   ],
   "source": [
    "# Function to calculate distance between two sets of geospatial data\n",
    "from geopy.distance import vincenty\n",
    "def distance_calc(row):\n",
    "    start = (row['lat'], row['long'])\n",
    "    stop = (row['merch_lat'], row['merch_long'])\n",
    "\n",
    "    return vincenty(start, stop).km\n",
    "\n",
    "# Create a column 'distance'\n",
    "fraud['distance'] = fraud.apply (lambda row: distance_calc(row),axis=1)\n",
    "fraud['distance'].head()"
   ]
  },
  {
   "cell_type": "code",
   "execution_count": 24,
   "metadata": {
    "colab": {
     "base_uri": "https://localhost:8080/",
     "height": 289
    },
    "id": "5nFSRR2_28_Y",
    "outputId": "f0b641fc-d918-4bcc-e4dd-c9aaacd13231"
   },
   "outputs": [
    {
     "data": {
      "text/html": [
       "<div>\n",
       "<style scoped>\n",
       "    .dataframe tbody tr th:only-of-type {\n",
       "        vertical-align: middle;\n",
       "    }\n",
       "\n",
       "    .dataframe tbody tr th {\n",
       "        vertical-align: top;\n",
       "    }\n",
       "\n",
       "    .dataframe thead th {\n",
       "        text-align: right;\n",
       "    }\n",
       "</style>\n",
       "<table border=\"1\" class=\"dataframe\">\n",
       "  <thead>\n",
       "    <tr style=\"text-align: right;\">\n",
       "      <th></th>\n",
       "      <th>merchant</th>\n",
       "      <th>category</th>\n",
       "      <th>amt</th>\n",
       "      <th>gender</th>\n",
       "      <th>street</th>\n",
       "      <th>city</th>\n",
       "      <th>state</th>\n",
       "      <th>city_pop</th>\n",
       "      <th>job</th>\n",
       "      <th>dob</th>\n",
       "      <th>is_fraud</th>\n",
       "      <th>distance</th>\n",
       "    </tr>\n",
       "  </thead>\n",
       "  <tbody>\n",
       "    <tr>\n",
       "      <th>0</th>\n",
       "      <td>fraud_Rippin, Kub and Mann</td>\n",
       "      <td>misc_net</td>\n",
       "      <td>4.97</td>\n",
       "      <td>F</td>\n",
       "      <td>561 Perry Cove</td>\n",
       "      <td>Moravian Falls</td>\n",
       "      <td>NC</td>\n",
       "      <td>3495</td>\n",
       "      <td>Psychologist, counselling</td>\n",
       "      <td>1988-03-09</td>\n",
       "      <td>0</td>\n",
       "      <td>78.773821</td>\n",
       "    </tr>\n",
       "    <tr>\n",
       "      <th>1</th>\n",
       "      <td>fraud_Heller, Gutmann and Zieme</td>\n",
       "      <td>grocery_pos</td>\n",
       "      <td>107.23</td>\n",
       "      <td>F</td>\n",
       "      <td>43039 Riley Greens Suite 393</td>\n",
       "      <td>Orient</td>\n",
       "      <td>WA</td>\n",
       "      <td>149</td>\n",
       "      <td>Special educational needs teacher</td>\n",
       "      <td>1978-06-21</td>\n",
       "      <td>0</td>\n",
       "      <td>30.216618</td>\n",
       "    </tr>\n",
       "    <tr>\n",
       "      <th>2</th>\n",
       "      <td>fraud_Lind-Buckridge</td>\n",
       "      <td>entertainment</td>\n",
       "      <td>220.11</td>\n",
       "      <td>M</td>\n",
       "      <td>594 White Dale Suite 530</td>\n",
       "      <td>Malad City</td>\n",
       "      <td>ID</td>\n",
       "      <td>4154</td>\n",
       "      <td>Nature conservation officer</td>\n",
       "      <td>1962-01-19</td>\n",
       "      <td>0</td>\n",
       "      <td>108.102912</td>\n",
       "    </tr>\n",
       "    <tr>\n",
       "      <th>3</th>\n",
       "      <td>fraud_Kutch, Hermiston and Farrell</td>\n",
       "      <td>gas_transport</td>\n",
       "      <td>45.00</td>\n",
       "      <td>M</td>\n",
       "      <td>9443 Cynthia Court Apt. 038</td>\n",
       "      <td>Boulder</td>\n",
       "      <td>MT</td>\n",
       "      <td>1939</td>\n",
       "      <td>Patent attorney</td>\n",
       "      <td>1967-01-12</td>\n",
       "      <td>0</td>\n",
       "      <td>95.685115</td>\n",
       "    </tr>\n",
       "    <tr>\n",
       "      <th>4</th>\n",
       "      <td>fraud_Keeling-Crist</td>\n",
       "      <td>misc_pos</td>\n",
       "      <td>41.96</td>\n",
       "      <td>M</td>\n",
       "      <td>408 Bradley Rest</td>\n",
       "      <td>Doe Hill</td>\n",
       "      <td>VA</td>\n",
       "      <td>99</td>\n",
       "      <td>Dance movement psychotherapist</td>\n",
       "      <td>1986-03-28</td>\n",
       "      <td>0</td>\n",
       "      <td>77.702395</td>\n",
       "    </tr>\n",
       "  </tbody>\n",
       "</table>\n",
       "</div>"
      ],
      "text/plain": [
       "                             merchant       category  ...  is_fraud    distance\n",
       "0          fraud_Rippin, Kub and Mann       misc_net  ...         0   78.773821\n",
       "1     fraud_Heller, Gutmann and Zieme    grocery_pos  ...         0   30.216618\n",
       "2                fraud_Lind-Buckridge  entertainment  ...         0  108.102912\n",
       "3  fraud_Kutch, Hermiston and Farrell  gas_transport  ...         0   95.685115\n",
       "4                 fraud_Keeling-Crist       misc_pos  ...         0   77.702395\n",
       "\n",
       "[5 rows x 12 columns]"
      ]
     },
     "execution_count": 24,
     "metadata": {
      "tags": []
     },
     "output_type": "execute_result"
    }
   ],
   "source": [
    "# Drop latitude and longitude and zip columns\n",
    "fraud = fraud.drop(['lat','long','merch_lat','merch_long','zip'],axis=1)\n",
    "fraud.head()"
   ]
  },
  {
   "cell_type": "code",
   "execution_count": 25,
   "metadata": {
    "colab": {
     "base_uri": "https://localhost:8080/",
     "height": 289
    },
    "id": "3JEEeu-ZBhWC",
    "outputId": "2c797ed6-263a-4ab3-df06-4682b697de93"
   },
   "outputs": [
    {
     "data": {
      "text/html": [
       "<div>\n",
       "<style scoped>\n",
       "    .dataframe tbody tr th:only-of-type {\n",
       "        vertical-align: middle;\n",
       "    }\n",
       "\n",
       "    .dataframe tbody tr th {\n",
       "        vertical-align: top;\n",
       "    }\n",
       "\n",
       "    .dataframe thead th {\n",
       "        text-align: right;\n",
       "    }\n",
       "</style>\n",
       "<table border=\"1\" class=\"dataframe\">\n",
       "  <thead>\n",
       "    <tr style=\"text-align: right;\">\n",
       "      <th></th>\n",
       "      <th>merchant</th>\n",
       "      <th>category</th>\n",
       "      <th>amt</th>\n",
       "      <th>gender</th>\n",
       "      <th>street</th>\n",
       "      <th>city</th>\n",
       "      <th>state</th>\n",
       "      <th>city_pop</th>\n",
       "      <th>job</th>\n",
       "      <th>is_fraud</th>\n",
       "      <th>distance</th>\n",
       "      <th>age</th>\n",
       "    </tr>\n",
       "  </thead>\n",
       "  <tbody>\n",
       "    <tr>\n",
       "      <th>0</th>\n",
       "      <td>fraud_Rippin, Kub and Mann</td>\n",
       "      <td>misc_net</td>\n",
       "      <td>4.97</td>\n",
       "      <td>F</td>\n",
       "      <td>561 Perry Cove</td>\n",
       "      <td>Moravian Falls</td>\n",
       "      <td>NC</td>\n",
       "      <td>3495</td>\n",
       "      <td>Psychologist, counselling</td>\n",
       "      <td>0</td>\n",
       "      <td>78.773821</td>\n",
       "      <td>33</td>\n",
       "    </tr>\n",
       "    <tr>\n",
       "      <th>1</th>\n",
       "      <td>fraud_Heller, Gutmann and Zieme</td>\n",
       "      <td>grocery_pos</td>\n",
       "      <td>107.23</td>\n",
       "      <td>F</td>\n",
       "      <td>43039 Riley Greens Suite 393</td>\n",
       "      <td>Orient</td>\n",
       "      <td>WA</td>\n",
       "      <td>149</td>\n",
       "      <td>Special educational needs teacher</td>\n",
       "      <td>0</td>\n",
       "      <td>30.216618</td>\n",
       "      <td>43</td>\n",
       "    </tr>\n",
       "    <tr>\n",
       "      <th>2</th>\n",
       "      <td>fraud_Lind-Buckridge</td>\n",
       "      <td>entertainment</td>\n",
       "      <td>220.11</td>\n",
       "      <td>M</td>\n",
       "      <td>594 White Dale Suite 530</td>\n",
       "      <td>Malad City</td>\n",
       "      <td>ID</td>\n",
       "      <td>4154</td>\n",
       "      <td>Nature conservation officer</td>\n",
       "      <td>0</td>\n",
       "      <td>108.102912</td>\n",
       "      <td>59</td>\n",
       "    </tr>\n",
       "    <tr>\n",
       "      <th>3</th>\n",
       "      <td>fraud_Kutch, Hermiston and Farrell</td>\n",
       "      <td>gas_transport</td>\n",
       "      <td>45.00</td>\n",
       "      <td>M</td>\n",
       "      <td>9443 Cynthia Court Apt. 038</td>\n",
       "      <td>Boulder</td>\n",
       "      <td>MT</td>\n",
       "      <td>1939</td>\n",
       "      <td>Patent attorney</td>\n",
       "      <td>0</td>\n",
       "      <td>95.685115</td>\n",
       "      <td>54</td>\n",
       "    </tr>\n",
       "    <tr>\n",
       "      <th>4</th>\n",
       "      <td>fraud_Keeling-Crist</td>\n",
       "      <td>misc_pos</td>\n",
       "      <td>41.96</td>\n",
       "      <td>M</td>\n",
       "      <td>408 Bradley Rest</td>\n",
       "      <td>Doe Hill</td>\n",
       "      <td>VA</td>\n",
       "      <td>99</td>\n",
       "      <td>Dance movement psychotherapist</td>\n",
       "      <td>0</td>\n",
       "      <td>77.702395</td>\n",
       "      <td>35</td>\n",
       "    </tr>\n",
       "  </tbody>\n",
       "</table>\n",
       "</div>"
      ],
      "text/plain": [
       "                             merchant       category  ...    distance age\n",
       "0          fraud_Rippin, Kub and Mann       misc_net  ...   78.773821  33\n",
       "1     fraud_Heller, Gutmann and Zieme    grocery_pos  ...   30.216618  43\n",
       "2                fraud_Lind-Buckridge  entertainment  ...  108.102912  59\n",
       "3  fraud_Kutch, Hermiston and Farrell  gas_transport  ...   95.685115  54\n",
       "4                 fraud_Keeling-Crist       misc_pos  ...   77.702395  35\n",
       "\n",
       "[5 rows x 12 columns]"
      ]
     },
     "execution_count": 25,
     "metadata": {
      "tags": []
     },
     "output_type": "execute_result"
    }
   ],
   "source": [
    "# function to convert dob to years\n",
    "def age_years(born):\n",
    "    return 2021 - int(born[0:4])\n",
    "\n",
    "# replacing the dob column with age column in our data set for test and train\n",
    "fraud['age'] = fraud['dob'].apply(lambda x: age_years(x))\n",
    "\n",
    "# Drop dob column\n",
    "fraud = fraud.drop(['dob'],axis =1)\n",
    "fraud.head()"
   ]
  },
  {
   "cell_type": "code",
   "execution_count": 26,
   "metadata": {
    "id": "PWOFsCVkgx0L"
   },
   "outputs": [],
   "source": [
    "#Binning of Age Variable\n",
    "fraud['age_group'] = pd.cut(fraud.age,[0,25,35,45,55,150], labels = [\"<25\",\"25-35\",\"35-45\",\"45-55\",\"55+\"])"
   ]
  },
  {
   "cell_type": "code",
   "execution_count": 27,
   "metadata": {
    "colab": {
     "base_uri": "https://localhost:8080/"
    },
    "id": "6B60KAUQ0Z5A",
    "outputId": "6a191280-7b48-4037-d8e5-1aefb3eb19a0"
   },
   "outputs": [
    {
     "data": {
      "text/plain": [
       "(1852394, 13)"
      ]
     },
     "execution_count": 27,
     "metadata": {
      "tags": []
     },
     "output_type": "execute_result"
    }
   ],
   "source": [
    "fraud.shape"
   ]
  },
  {
   "cell_type": "code",
   "execution_count": 28,
   "metadata": {
    "colab": {
     "base_uri": "https://localhost:8080/",
     "height": 306
    },
    "id": "x7EWEA4Z1d9u",
    "outputId": "e98a2fb9-5708-414e-9e5a-e005fae3837b"
   },
   "outputs": [
    {
     "data": {
      "text/html": [
       "<div>\n",
       "<style scoped>\n",
       "    .dataframe tbody tr th:only-of-type {\n",
       "        vertical-align: middle;\n",
       "    }\n",
       "\n",
       "    .dataframe tbody tr th {\n",
       "        vertical-align: top;\n",
       "    }\n",
       "\n",
       "    .dataframe thead th {\n",
       "        text-align: right;\n",
       "    }\n",
       "</style>\n",
       "<table border=\"1\" class=\"dataframe\">\n",
       "  <thead>\n",
       "    <tr style=\"text-align: right;\">\n",
       "      <th></th>\n",
       "      <th>merchant</th>\n",
       "      <th>category</th>\n",
       "      <th>amt</th>\n",
       "      <th>gender</th>\n",
       "      <th>street</th>\n",
       "      <th>city</th>\n",
       "      <th>state</th>\n",
       "      <th>city_pop</th>\n",
       "      <th>job</th>\n",
       "      <th>is_fraud</th>\n",
       "      <th>distance</th>\n",
       "      <th>age</th>\n",
       "      <th>age_group</th>\n",
       "    </tr>\n",
       "  </thead>\n",
       "  <tbody>\n",
       "    <tr>\n",
       "      <th>0</th>\n",
       "      <td>fraud_Rippin, Kub and Mann</td>\n",
       "      <td>misc_net</td>\n",
       "      <td>4.97</td>\n",
       "      <td>F</td>\n",
       "      <td>561 Perry Cove</td>\n",
       "      <td>Moravian Falls</td>\n",
       "      <td>NC</td>\n",
       "      <td>3495</td>\n",
       "      <td>Psychologist, counselling</td>\n",
       "      <td>0</td>\n",
       "      <td>78.773821</td>\n",
       "      <td>33</td>\n",
       "      <td>25-35</td>\n",
       "    </tr>\n",
       "    <tr>\n",
       "      <th>1</th>\n",
       "      <td>fraud_Heller, Gutmann and Zieme</td>\n",
       "      <td>grocery_pos</td>\n",
       "      <td>107.23</td>\n",
       "      <td>F</td>\n",
       "      <td>43039 Riley Greens Suite 393</td>\n",
       "      <td>Orient</td>\n",
       "      <td>WA</td>\n",
       "      <td>149</td>\n",
       "      <td>Special educational needs teacher</td>\n",
       "      <td>0</td>\n",
       "      <td>30.216618</td>\n",
       "      <td>43</td>\n",
       "      <td>35-45</td>\n",
       "    </tr>\n",
       "    <tr>\n",
       "      <th>2</th>\n",
       "      <td>fraud_Lind-Buckridge</td>\n",
       "      <td>entertainment</td>\n",
       "      <td>220.11</td>\n",
       "      <td>M</td>\n",
       "      <td>594 White Dale Suite 530</td>\n",
       "      <td>Malad City</td>\n",
       "      <td>ID</td>\n",
       "      <td>4154</td>\n",
       "      <td>Nature conservation officer</td>\n",
       "      <td>0</td>\n",
       "      <td>108.102912</td>\n",
       "      <td>59</td>\n",
       "      <td>55+</td>\n",
       "    </tr>\n",
       "    <tr>\n",
       "      <th>3</th>\n",
       "      <td>fraud_Kutch, Hermiston and Farrell</td>\n",
       "      <td>gas_transport</td>\n",
       "      <td>45.00</td>\n",
       "      <td>M</td>\n",
       "      <td>9443 Cynthia Court Apt. 038</td>\n",
       "      <td>Boulder</td>\n",
       "      <td>MT</td>\n",
       "      <td>1939</td>\n",
       "      <td>Patent attorney</td>\n",
       "      <td>0</td>\n",
       "      <td>95.685115</td>\n",
       "      <td>54</td>\n",
       "      <td>45-55</td>\n",
       "    </tr>\n",
       "    <tr>\n",
       "      <th>4</th>\n",
       "      <td>fraud_Keeling-Crist</td>\n",
       "      <td>misc_pos</td>\n",
       "      <td>41.96</td>\n",
       "      <td>M</td>\n",
       "      <td>408 Bradley Rest</td>\n",
       "      <td>Doe Hill</td>\n",
       "      <td>VA</td>\n",
       "      <td>99</td>\n",
       "      <td>Dance movement psychotherapist</td>\n",
       "      <td>0</td>\n",
       "      <td>77.702395</td>\n",
       "      <td>35</td>\n",
       "      <td>25-35</td>\n",
       "    </tr>\n",
       "  </tbody>\n",
       "</table>\n",
       "</div>"
      ],
      "text/plain": [
       "                             merchant       category  ...  age age_group\n",
       "0          fraud_Rippin, Kub and Mann       misc_net  ...   33     25-35\n",
       "1     fraud_Heller, Gutmann and Zieme    grocery_pos  ...   43     35-45\n",
       "2                fraud_Lind-Buckridge  entertainment  ...   59       55+\n",
       "3  fraud_Kutch, Hermiston and Farrell  gas_transport  ...   54     45-55\n",
       "4                 fraud_Keeling-Crist       misc_pos  ...   35     25-35\n",
       "\n",
       "[5 rows x 13 columns]"
      ]
     },
     "execution_count": 28,
     "metadata": {
      "tags": []
     },
     "output_type": "execute_result"
    }
   ],
   "source": [
    "fraud.head()"
   ]
  },
  {
   "cell_type": "code",
   "execution_count": 29,
   "metadata": {
    "colab": {
     "base_uri": "https://localhost:8080/",
     "height": 289
    },
    "id": "2HyPn_2i1i7t",
    "outputId": "e33b31dd-1eb4-483d-f3b4-d5228f27bbde"
   },
   "outputs": [
    {
     "data": {
      "text/html": [
       "<div>\n",
       "<style scoped>\n",
       "    .dataframe tbody tr th:only-of-type {\n",
       "        vertical-align: middle;\n",
       "    }\n",
       "\n",
       "    .dataframe tbody tr th {\n",
       "        vertical-align: top;\n",
       "    }\n",
       "\n",
       "    .dataframe thead th {\n",
       "        text-align: right;\n",
       "    }\n",
       "</style>\n",
       "<table border=\"1\" class=\"dataframe\">\n",
       "  <thead>\n",
       "    <tr style=\"text-align: right;\">\n",
       "      <th></th>\n",
       "      <th>merchant</th>\n",
       "      <th>category</th>\n",
       "      <th>amt</th>\n",
       "      <th>gender</th>\n",
       "      <th>street</th>\n",
       "      <th>city</th>\n",
       "      <th>state</th>\n",
       "      <th>city_pop</th>\n",
       "      <th>job</th>\n",
       "      <th>is_fraud</th>\n",
       "      <th>distance</th>\n",
       "      <th>age_group</th>\n",
       "    </tr>\n",
       "  </thead>\n",
       "  <tbody>\n",
       "    <tr>\n",
       "      <th>0</th>\n",
       "      <td>fraud_Rippin, Kub and Mann</td>\n",
       "      <td>misc_net</td>\n",
       "      <td>4.97</td>\n",
       "      <td>F</td>\n",
       "      <td>561 Perry Cove</td>\n",
       "      <td>Moravian Falls</td>\n",
       "      <td>NC</td>\n",
       "      <td>3495</td>\n",
       "      <td>Psychologist, counselling</td>\n",
       "      <td>0</td>\n",
       "      <td>78.773821</td>\n",
       "      <td>25-35</td>\n",
       "    </tr>\n",
       "    <tr>\n",
       "      <th>1</th>\n",
       "      <td>fraud_Heller, Gutmann and Zieme</td>\n",
       "      <td>grocery_pos</td>\n",
       "      <td>107.23</td>\n",
       "      <td>F</td>\n",
       "      <td>43039 Riley Greens Suite 393</td>\n",
       "      <td>Orient</td>\n",
       "      <td>WA</td>\n",
       "      <td>149</td>\n",
       "      <td>Special educational needs teacher</td>\n",
       "      <td>0</td>\n",
       "      <td>30.216618</td>\n",
       "      <td>35-45</td>\n",
       "    </tr>\n",
       "    <tr>\n",
       "      <th>2</th>\n",
       "      <td>fraud_Lind-Buckridge</td>\n",
       "      <td>entertainment</td>\n",
       "      <td>220.11</td>\n",
       "      <td>M</td>\n",
       "      <td>594 White Dale Suite 530</td>\n",
       "      <td>Malad City</td>\n",
       "      <td>ID</td>\n",
       "      <td>4154</td>\n",
       "      <td>Nature conservation officer</td>\n",
       "      <td>0</td>\n",
       "      <td>108.102912</td>\n",
       "      <td>55+</td>\n",
       "    </tr>\n",
       "    <tr>\n",
       "      <th>3</th>\n",
       "      <td>fraud_Kutch, Hermiston and Farrell</td>\n",
       "      <td>gas_transport</td>\n",
       "      <td>45.00</td>\n",
       "      <td>M</td>\n",
       "      <td>9443 Cynthia Court Apt. 038</td>\n",
       "      <td>Boulder</td>\n",
       "      <td>MT</td>\n",
       "      <td>1939</td>\n",
       "      <td>Patent attorney</td>\n",
       "      <td>0</td>\n",
       "      <td>95.685115</td>\n",
       "      <td>45-55</td>\n",
       "    </tr>\n",
       "    <tr>\n",
       "      <th>4</th>\n",
       "      <td>fraud_Keeling-Crist</td>\n",
       "      <td>misc_pos</td>\n",
       "      <td>41.96</td>\n",
       "      <td>M</td>\n",
       "      <td>408 Bradley Rest</td>\n",
       "      <td>Doe Hill</td>\n",
       "      <td>VA</td>\n",
       "      <td>99</td>\n",
       "      <td>Dance movement psychotherapist</td>\n",
       "      <td>0</td>\n",
       "      <td>77.702395</td>\n",
       "      <td>25-35</td>\n",
       "    </tr>\n",
       "  </tbody>\n",
       "</table>\n",
       "</div>"
      ],
      "text/plain": [
       "                             merchant       category  ...    distance age_group\n",
       "0          fraud_Rippin, Kub and Mann       misc_net  ...   78.773821     25-35\n",
       "1     fraud_Heller, Gutmann and Zieme    grocery_pos  ...   30.216618     35-45\n",
       "2                fraud_Lind-Buckridge  entertainment  ...  108.102912       55+\n",
       "3  fraud_Kutch, Hermiston and Farrell  gas_transport  ...   95.685115     45-55\n",
       "4                 fraud_Keeling-Crist       misc_pos  ...   77.702395     25-35\n",
       "\n",
       "[5 rows x 12 columns]"
      ]
     },
     "execution_count": 29,
     "metadata": {
      "tags": []
     },
     "output_type": "execute_result"
    }
   ],
   "source": [
    "# Drop 'age' column\n",
    "fraud = fraud.drop('age',axis=1)\n",
    "fraud.head()"
   ]
  },
  {
   "cell_type": "code",
   "execution_count": 30,
   "metadata": {
    "colab": {
     "base_uri": "https://localhost:8080/"
    },
    "id": "YiejMt0tjFyk",
    "outputId": "fc6e0fc0-2d2a-4497-a417-d15a555e0adf"
   },
   "outputs": [
    {
     "data": {
      "text/plain": [
       "merchant         693\n",
       "category          14\n",
       "amt            60616\n",
       "gender             2\n",
       "street           999\n",
       "city             906\n",
       "state             51\n",
       "city_pop         891\n",
       "job              497\n",
       "is_fraud           2\n",
       "distance     1852394\n",
       "age_group          5\n",
       "dtype: int64"
      ]
     },
     "execution_count": 30,
     "metadata": {
      "tags": []
     },
     "output_type": "execute_result"
    }
   ],
   "source": [
    "# Check the number of unique values in each column\n",
    "fraud.nunique()"
   ]
  },
  {
   "cell_type": "code",
   "execution_count": 31,
   "metadata": {
    "colab": {
     "base_uri": "https://localhost:8080/"
    },
    "id": "qQjqsZMh0klt",
    "outputId": "83219426-351f-4690-df83-b4e4f3760f50"
   },
   "outputs": [
    {
     "name": "stdout",
     "output_type": "stream",
     "text": [
      "<class 'pandas.core.frame.DataFrame'>\n",
      "Int64Index: 1852394 entries, 0 to 555718\n",
      "Data columns (total 12 columns):\n",
      " #   Column     Dtype   \n",
      "---  ------     -----   \n",
      " 0   merchant   object  \n",
      " 1   category   object  \n",
      " 2   amt        float64 \n",
      " 3   gender     object  \n",
      " 4   street     object  \n",
      " 5   city       object  \n",
      " 6   state      object  \n",
      " 7   city_pop   int64   \n",
      " 8   job        object  \n",
      " 9   is_fraud   int64   \n",
      " 10  distance   float64 \n",
      " 11  age_group  category\n",
      "dtypes: category(1), float64(2), int64(2), object(7)\n",
      "memory usage: 171.4+ MB\n"
     ]
    }
   ],
   "source": [
    "fraud.info()"
   ]
  },
  {
   "cell_type": "markdown",
   "metadata": {
    "id": "rcYN76X7o759"
   },
   "source": [
    "## 2.4 EDA"
   ]
  },
  {
   "cell_type": "markdown",
   "metadata": {
    "id": "hB4tUyEi2Gv0"
   },
   "source": [
    "### 2.4.1 Categorical Variable"
   ]
  },
  {
   "cell_type": "code",
   "execution_count": 32,
   "metadata": {
    "colab": {
     "base_uri": "https://localhost:8080/"
    },
    "id": "dWMi44OJjQaV",
    "outputId": "3a2ab969-ed6f-4b6a-e0f1-105bd63e2ed7"
   },
   "outputs": [
    {
     "data": {
      "text/plain": [
       "category\n",
       "grocery_pos       2228\n",
       "shopping_net      2219\n",
       "misc_net          1182\n",
       "shopping_pos      1056\n",
       "gas_transport      772\n",
       "misc_pos           322\n",
       "kids_pets          304\n",
       "entertainment      292\n",
       "personal_care      290\n",
       "home               265\n",
       "food_dining        205\n",
       "health_fitness     185\n",
       "grocery_net        175\n",
       "travel             156\n",
       "Name: is_fraud, dtype: int64"
      ]
     },
     "execution_count": 32,
     "metadata": {
      "tags": []
     },
     "output_type": "execute_result"
    }
   ],
   "source": [
    "fraud_by_category = pd.DataFrame(pd.pivot_table(fraud,values='is_fraud',index='category',aggfunc=np.sum))\n",
    "fraud_by_category['is_fraud'].sort_values(ascending=False)"
   ]
  },
  {
   "cell_type": "markdown",
   "metadata": {
    "id": "bFGXfvVPm4F-"
   },
   "source": [
    "- Maximum number of fraudulent transaction occurs in categories like 'grocery_pos', 'shopping_net', 'misc_net', 'shopping_pos', 'gas_transport'.\n",
    "- Minimum number of fraudulent transaction occurs in categories like 'travel', 'grocery_net, 'health_fitness'."
   ]
  },
  {
   "cell_type": "code",
   "execution_count": 33,
   "metadata": {
    "colab": {
     "base_uri": "https://localhost:8080/",
     "height": 515
    },
    "id": "AcC3aO5Y6FGK",
    "outputId": "6b7b5be3-95fe-4155-ce93-41372b9684ee"
   },
   "outputs": [
    {
     "data": {
      "text/plain": [
       "<matplotlib.axes._subplots.AxesSubplot at 0x7fa025fd0850>"
      ]
     },
     "execution_count": 33,
     "metadata": {
      "tags": []
     },
     "output_type": "execute_result"
    },
    {
     "data": {
      "image/png": "[encoded data removed]",
      "text/plain": [
       "<Figure size 1152x576 with 1 Axes>"
      ]
     },
     "metadata": {
      "needs_background": "light",
      "tags": []
     },
     "output_type": "display_data"
    }
   ],
   "source": [
    "plt.figure(figsize=(16,8))\n",
    "sns.countplot(fraud['category'],hue=fraud.is_fraud)"
   ]
  },
  {
   "cell_type": "code",
   "execution_count": 34,
   "metadata": {
    "colab": {
     "base_uri": "https://localhost:8080/"
    },
    "id": "HzPhAZcl7b-V",
    "outputId": "bc9cd73b-5c8a-4c31-88ba-c819a74a7c85"
   },
   "outputs": [
    {
     "data": {
      "text/plain": [
       "gender\n",
       "F    4899\n",
       "M    4752\n",
       "Name: is_fraud, dtype: int64"
      ]
     },
     "execution_count": 34,
     "metadata": {
      "tags": []
     },
     "output_type": "execute_result"
    }
   ],
   "source": [
    "fraud_by_gender = pd.DataFrame(pd.pivot_table(fraud,values='is_fraud',index='gender',aggfunc=np.sum))\n",
    "fraud_by_gender['is_fraud']"
   ]
  },
  {
   "cell_type": "markdown",
   "metadata": {
    "id": "8_Wl_WGG20PN"
   },
   "source": [
    "- Similar number of fraudulent transaction happened in both Male and Female."
   ]
  },
  {
   "cell_type": "code",
   "execution_count": 35,
   "metadata": {
    "colab": {
     "base_uri": "https://localhost:8080/",
     "height": 307
    },
    "id": "QwlSLOD67Cbg",
    "outputId": "fc8cc4be-a80c-4873-ad22-e77355fd403f"
   },
   "outputs": [
    {
     "data": {
      "text/plain": [
       "<matplotlib.axes._subplots.AxesSubplot at 0x7fa006350950>"
      ]
     },
     "execution_count": 35,
     "metadata": {
      "tags": []
     },
     "output_type": "execute_result"
    },
    {
     "data": {
      "image/png": "[encoded data removed]",
      "text/plain": [
       "<Figure size 432x288 with 1 Axes>"
      ]
     },
     "metadata": {
      "needs_background": "light",
      "tags": []
     },
     "output_type": "display_data"
    }
   ],
   "source": [
    "sns.countplot(fraud['gender'],hue=fraud.is_fraud)"
   ]
  },
  {
   "cell_type": "code",
   "execution_count": 36,
   "metadata": {
    "colab": {
     "base_uri": "https://localhost:8080/"
    },
    "id": "-P9abgmgm21C",
    "outputId": "b42c24b3-5742-48a9-aefd-3b1c2bf599fa"
   },
   "outputs": [
    {
     "data": {
      "text/plain": [
       "merchant\n",
       "fraud_Kilback LLC     62\n",
       "fraud_Kozey-Boehm     60\n",
       "fraud_Rau and Sons    60\n",
       "fraud_Doyle Ltd       57\n",
       "fraud_Terry-Huel      56\n",
       "Name: is_fraud, dtype: int64"
      ]
     },
     "execution_count": 36,
     "metadata": {
      "tags": []
     },
     "output_type": "execute_result"
    }
   ],
   "source": [
    "fraud_by_merchant = pd.DataFrame(pd.pivot_table(fraud,values='is_fraud',index='merchant',aggfunc=np.sum))\n",
    "fraud_by_merchant['is_fraud'].sort_values(ascending=False).head()"
   ]
  },
  {
   "cell_type": "markdown",
   "metadata": {
    "id": "3Q1qvP63pYGa"
   },
   "source": [
    "Maximum number of fraudulent transaction occurs for merchants like 'fraud_Kilback LLC', 'fraud_Kozey-Boehm', 'fraud_Rau and Sons'."
   ]
  },
  {
   "cell_type": "code",
   "execution_count": 37,
   "metadata": {
    "colab": {
     "base_uri": "https://localhost:8080/"
    },
    "id": "6hT7lBOdHZsx",
    "outputId": "7222d692-5d1a-4f51-b907-e516bdb164ac"
   },
   "outputs": [
    {
     "data": {
      "text/plain": [
       "merchant\n",
       "fraud_Turner LLC                         1\n",
       "fraud_Romaguera and Sons                 1\n",
       "fraud_Wiegand-Lowe                       0\n",
       "fraud_McKenzie-Huels                     0\n",
       "fraud_Ritchie, Bradtke and Stiedemann    0\n",
       "fraud_Reichert-Weissnat                  0\n",
       "fraud_Gulgowski LLC                      0\n",
       "fraud_Hodkiewicz, Prohaska and Paucek    0\n",
       "fraud_Schroeder Group                    0\n",
       "fraud_Paucek-Wiza                        0\n",
       "Name: is_fraud, dtype: int64"
      ]
     },
     "execution_count": 37,
     "metadata": {
      "tags": []
     },
     "output_type": "execute_result"
    }
   ],
   "source": [
    "fraud_by_merchant['is_fraud'].sort_values(ascending=False).tail(10)"
   ]
  },
  {
   "cell_type": "markdown",
   "metadata": {
    "id": "_BOZ-OOh3M0R"
   },
   "source": [
    "- No fraudulent transactions found for 8 merchants."
   ]
  },
  {
   "cell_type": "code",
   "execution_count": 38,
   "metadata": {
    "colab": {
     "base_uri": "https://localhost:8080/"
    },
    "id": "8MAXzZkOpXDJ",
    "outputId": "6928efa9-e143-4e9e-c5a5-4d980ccf6b2f"
   },
   "outputs": [
    {
     "data": {
      "text/plain": [
       "state\n",
       "NY    730\n",
       "TX    592\n",
       "PA    572\n",
       "CA    402\n",
       "OH    360\n",
       "FL    334\n",
       "IL    324\n",
       "MI    299\n",
       "MN    280\n",
       "AL    278\n",
       "Name: is_fraud, dtype: int64"
      ]
     },
     "execution_count": 38,
     "metadata": {
      "tags": []
     },
     "output_type": "execute_result"
    }
   ],
   "source": [
    "fraud_by_state = pd.DataFrame(pd.pivot_table(fraud,values='is_fraud',index='state',aggfunc=np.sum))\n",
    "fraud_by_state['is_fraud'].sort_values(ascending=False).head(10)"
   ]
  },
  {
   "cell_type": "markdown",
   "metadata": {
    "id": "v39betoD6Ohq"
   },
   "source": [
    "- Maximum number of fraud happens in 'NY', 'TX', 'PA', 'CA' states."
   ]
  },
  {
   "cell_type": "code",
   "execution_count": 39,
   "metadata": {
    "colab": {
     "base_uri": "https://localhost:8080/"
    },
    "id": "RbGn3iggH2vo",
    "outputId": "5cd0d7aa-112a-4eac-c50d-dda3f19b7fd0"
   },
   "outputs": [
    {
     "data": {
      "text/plain": [
       "state\n",
       "AZ    64\n",
       "UT    61\n",
       "CT    56\n",
       "AK    50\n",
       "NV    47\n",
       "ID    33\n",
       "DC    31\n",
       "HI    16\n",
       "RI    15\n",
       "DE     9\n",
       "Name: is_fraud, dtype: int64"
      ]
     },
     "execution_count": 39,
     "metadata": {
      "tags": []
     },
     "output_type": "execute_result"
    }
   ],
   "source": [
    "fraud_by_state['is_fraud'].sort_values(ascending=False).tail(10)"
   ]
  },
  {
   "cell_type": "markdown",
   "metadata": {
    "id": "JowejKX06Ig3"
   },
   "source": [
    "- Minimum number of fraud happens in 'HI', 'RI' and 'DE' states."
   ]
  },
  {
   "cell_type": "code",
   "execution_count": 40,
   "metadata": {
    "colab": {
     "base_uri": "https://localhost:8080/"
    },
    "id": "V6NTz0NR5_wu",
    "outputId": "2bf36026-5558-49e0-b1f2-dc2e2bf8df3f"
   },
   "outputs": [
    {
     "data": {
      "text/plain": [
       "city\n",
       "Dallas           39\n",
       "Houston          39\n",
       "Birmingham       36\n",
       "New York City    35\n",
       "Camden           34\n",
       "Allentown        34\n",
       "Warren           33\n",
       "Detroit          33\n",
       "Washington       31\n",
       "Arcadia          30\n",
       "Name: is_fraud, dtype: int64"
      ]
     },
     "execution_count": 40,
     "metadata": {
      "tags": []
     },
     "output_type": "execute_result"
    }
   ],
   "source": [
    "fraud_by_city = pd.DataFrame(pd.pivot_table(fraud,values='is_fraud',index='city',aggfunc=np.sum))\n",
    "fraud_by_city['is_fraud'].sort_values(ascending=False).head(10)"
   ]
  },
  {
   "cell_type": "code",
   "execution_count": 41,
   "metadata": {
    "colab": {
     "base_uri": "https://localhost:8080/"
    },
    "id": "LOI7aZGO6ZmW",
    "outputId": "05d49eea-f375-4034-f70a-a5d7662d5011"
   },
   "outputs": [
    {
     "data": {
      "text/plain": [
       "city\n",
       "Kilgore          2\n",
       "Woods Cross      0\n",
       "Lubbock          0\n",
       "Kirtland Afb     0\n",
       "Pittsburgh       0\n",
       "Tallmansville    0\n",
       "Clay Center      0\n",
       "Baroda           0\n",
       "Cord             0\n",
       "Ratcliff         0\n",
       "Ballwin          0\n",
       "Belgrade         0\n",
       "Hinckley         0\n",
       "Tomahawk         0\n",
       "San Angelo       0\n",
       "Pewee Valley     0\n",
       "Milwaukee        0\n",
       "Wheaton          0\n",
       "Mayersville      0\n",
       "Alton            0\n",
       "Name: is_fraud, dtype: int64"
      ]
     },
     "execution_count": 41,
     "metadata": {
      "tags": []
     },
     "output_type": "execute_result"
    }
   ],
   "source": [
    "fraud_by_city['is_fraud'].sort_values(ascending=False).tail(20)"
   ]
  },
  {
   "cell_type": "markdown",
   "metadata": {
    "id": "NTw5wR5P3mF7"
   },
   "source": [
    "- No fraudulent transactions found in 19 cities."
   ]
  },
  {
   "cell_type": "code",
   "execution_count": 42,
   "metadata": {
    "colab": {
     "base_uri": "https://localhost:8080/"
    },
    "id": "Lyce0zJN6fNE",
    "outputId": "0d3450c9-c293-4993-b499-0635b0842692"
   },
   "outputs": [
    {
     "data": {
      "text/plain": [
       "job\n",
       "Quantity surveyor                        69\n",
       "Naval architect                          66\n",
       "Materials engineer                       62\n",
       "Audiological scientist                   58\n",
       "Senior tax professional/tax inspector    57\n",
       "Trading standards officer                56\n",
       "Podiatrist                               54\n",
       "Film/video editor                        52\n",
       "Colour technologist                      51\n",
       "Exhibition designer                      51\n",
       "Name: is_fraud, dtype: int64"
      ]
     },
     "execution_count": 42,
     "metadata": {
      "tags": []
     },
     "output_type": "execute_result"
    }
   ],
   "source": [
    "fraud_by_job = pd.DataFrame(pd.pivot_table(fraud,values='is_fraud',index='job',aggfunc=np.sum))\n",
    "fraud_by_job['is_fraud'].sort_values(ascending=False).head(10)"
   ]
  },
  {
   "cell_type": "markdown",
   "metadata": {
    "id": "GFE_15Cs6ll-"
   },
   "source": [
    "- Maximum fraudulent transaction occurs for customers falling in job categories like 'Quantity surveyor', 'Naval architect', 'Materials engineer'."
   ]
  },
  {
   "cell_type": "code",
   "execution_count": 43,
   "metadata": {
    "colab": {
     "base_uri": "https://localhost:8080/"
    },
    "id": "0xgQ_AsE6hSj",
    "outputId": "21000126-60f2-483d-dcb3-cfb6c49023c6"
   },
   "outputs": [
    {
     "data": {
      "text/plain": [
       "job\n",
       "Local government officer        4\n",
       "Professor Emeritus              4\n",
       "Interpreter                     4\n",
       "Designer, exhibition/display    4\n",
       "Statistician                    3\n",
       "Health physicist                3\n",
       "Contractor                      2\n",
       "Stage manager                   0\n",
       "Engineer, drilling              0\n",
       "Engineer, communications        0\n",
       "Name: is_fraud, dtype: int64"
      ]
     },
     "execution_count": 43,
     "metadata": {
      "tags": []
     },
     "output_type": "execute_result"
    }
   ],
   "source": [
    "fraud_by_job['is_fraud'].sort_values(ascending=False).tail(10)"
   ]
  },
  {
   "cell_type": "markdown",
   "metadata": {
    "id": "Z3liZm9b6sHG"
   },
   "source": [
    "- No fraudulent transaction occurs for customers falling in job categories like 'Stage manager', 'Engineer, drilling', 'Engineer, communications'."
   ]
  },
  {
   "cell_type": "code",
   "execution_count": 44,
   "metadata": {
    "colab": {
     "base_uri": "https://localhost:8080/",
     "height": 233
    },
    "id": "Q6qJYreb7ZQM",
    "outputId": "87851543-ef3c-438f-c56e-d6f66d42693b"
   },
   "outputs": [
    {
     "data": {
      "text/html": [
       "<div>\n",
       "<style scoped>\n",
       "    .dataframe tbody tr th:only-of-type {\n",
       "        vertical-align: middle;\n",
       "    }\n",
       "\n",
       "    .dataframe tbody tr th {\n",
       "        vertical-align: top;\n",
       "    }\n",
       "\n",
       "    .dataframe thead th {\n",
       "        text-align: right;\n",
       "    }\n",
       "</style>\n",
       "<table border=\"1\" class=\"dataframe\">\n",
       "  <thead>\n",
       "    <tr style=\"text-align: right;\">\n",
       "      <th></th>\n",
       "      <th>is_fraud</th>\n",
       "    </tr>\n",
       "    <tr>\n",
       "      <th>age_group</th>\n",
       "      <th></th>\n",
       "    </tr>\n",
       "  </thead>\n",
       "  <tbody>\n",
       "    <tr>\n",
       "      <th>&lt;25</th>\n",
       "      <td>770</td>\n",
       "    </tr>\n",
       "    <tr>\n",
       "      <th>25-35</th>\n",
       "      <td>1807</td>\n",
       "    </tr>\n",
       "    <tr>\n",
       "      <th>35-45</th>\n",
       "      <td>1543</td>\n",
       "    </tr>\n",
       "    <tr>\n",
       "      <th>45-55</th>\n",
       "      <td>1897</td>\n",
       "    </tr>\n",
       "    <tr>\n",
       "      <th>55+</th>\n",
       "      <td>3634</td>\n",
       "    </tr>\n",
       "  </tbody>\n",
       "</table>\n",
       "</div>"
      ],
      "text/plain": [
       "           is_fraud\n",
       "age_group          \n",
       "<25             770\n",
       "25-35          1807\n",
       "35-45          1543\n",
       "45-55          1897\n",
       "55+            3634"
      ]
     },
     "execution_count": 44,
     "metadata": {
      "tags": []
     },
     "output_type": "execute_result"
    }
   ],
   "source": [
    "fraud_by_age = pd.DataFrame(pd.pivot_table(fraud,values='is_fraud',index='age_group',aggfunc=np.sum))\n",
    "fraud_by_age"
   ]
  },
  {
   "cell_type": "code",
   "execution_count": 45,
   "metadata": {
    "colab": {
     "base_uri": "https://localhost:8080/"
    },
    "id": "dICQoCYY413c",
    "outputId": "7df5d925-8a29-428b-f2a2-d2b03ae07d66"
   },
   "outputs": [
    {
     "data": {
      "text/plain": [
       "55+      540945\n",
       "45-55    397228\n",
       "35-45    394733\n",
       "25-35    379655\n",
       "<25      139833\n",
       "Name: age_group, dtype: int64"
      ]
     },
     "execution_count": 45,
     "metadata": {
      "tags": []
     },
     "output_type": "execute_result"
    }
   ],
   "source": [
    "fraud['age_group'].value_counts()"
   ]
  },
  {
   "cell_type": "code",
   "execution_count": 46,
   "metadata": {
    "colab": {
     "base_uri": "https://localhost:8080/",
     "height": 284
    },
    "id": "K4ix3OIe67AQ",
    "outputId": "39561063-d6b2-4f4c-b05e-5dc6a4a82248"
   },
   "outputs": [
    {
     "data": {
      "image/png": "[encoded data removed]",
      "text/plain": [
       "<Figure size 432x288 with 1 Axes>"
      ]
     },
     "metadata": {
      "needs_background": "light",
      "tags": []
     },
     "output_type": "display_data"
    }
   ],
   "source": [
    "fraud['age_group'].value_counts().plot.bar()\n",
    "plt.show()"
   ]
  },
  {
   "cell_type": "markdown",
   "metadata": {
    "id": "FWW3imcq7Cs-"
   },
   "source": [
    "- The number of transactions and fraudulent transactions are highest in the age group of '55+'\n",
    "- The number of transactions and fraudulent transactions are highest in the age group of '<25'"
   ]
  },
  {
   "cell_type": "markdown",
   "metadata": {
    "id": "iBFscWV93727"
   },
   "source": [
    "### 2.4.2 Numerical Variables"
   ]
  },
  {
   "cell_type": "code",
   "execution_count": 47,
   "metadata": {
    "colab": {
     "base_uri": "https://localhost:8080/",
     "height": 346
    },
    "id": "DTchIu0ZIatq",
    "outputId": "f89cae7c-1fdc-48a7-80c3-d88613ec1542"
   },
   "outputs": [
    {
     "data": {
      "image/png": "[encoded data removed]",
      "text/plain": [
       "<Figure size 1080x360 with 3 Axes>"
      ]
     },
     "metadata": {
      "needs_background": "light",
      "tags": []
     },
     "output_type": "display_data"
    }
   ],
   "source": [
    "plt.figure(figsize=(15,5))\n",
    "plt.subplot(1,3,1)\n",
    "sns.boxplot(x = 'is_fraud', y = 'amt', data=fraud)\n",
    "\n",
    "plt.subplot(1,3,2)\n",
    "sns.boxplot(x = 'is_fraud', y = 'city_pop', data=fraud)\n",
    "\n",
    "plt.subplot(1,3,3)\n",
    "sns.boxplot(x = 'is_fraud', y = 'distance', data=fraud)\n",
    "plt.show()"
   ]
  },
  {
   "cell_type": "markdown",
   "metadata": {
    "id": "X9_wfXOU80Q_"
   },
   "source": [
    "- Outliers are present in 'amt' and 'city_pop' column.\n",
    "- The mean distance is almost same for both fraudulent and non-fraudulent transactions."
   ]
  },
  {
   "cell_type": "code",
   "execution_count": 48,
   "metadata": {
    "colab": {
     "base_uri": "https://localhost:8080/",
     "height": 334
    },
    "id": "LXPM9VE59jdl",
    "outputId": "c00aaba2-3752-4ce9-98a3-df431b4c170f"
   },
   "outputs": [
    {
     "data": {
      "image/png": "[encoded data removed]",
      "text/plain": [
       "<Figure size 720x360 with 1 Axes>"
      ]
     },
     "metadata": {
      "needs_background": "light",
      "tags": []
     },
     "output_type": "display_data"
    }
   ],
   "source": [
    "plt.figure(figsize = (10, 5))\n",
    "sns.boxplot(x = 'gender', y = 'amt', hue = 'is_fraud', data = fraud)\n",
    "plt.show()"
   ]
  },
  {
   "cell_type": "code",
   "execution_count": 49,
   "metadata": {
    "colab": {
     "base_uri": "https://localhost:8080/"
    },
    "id": "LrI2rj8S_CRR",
    "outputId": "a0457d2d-ba49-46eb-c179-12a235229456"
   },
   "outputs": [
    {
     "data": {
      "text/plain": [
       "merchant       object\n",
       "category       object\n",
       "amt           float64\n",
       "gender         object\n",
       "street         object\n",
       "city           object\n",
       "state          object\n",
       "city_pop        int64\n",
       "job            object\n",
       "is_fraud        int64\n",
       "distance      float64\n",
       "age_group    category\n",
       "dtype: object"
      ]
     },
     "execution_count": 49,
     "metadata": {
      "tags": []
     },
     "output_type": "execute_result"
    }
   ],
   "source": [
    "fraud.dtypes"
   ]
  },
  {
   "cell_type": "code",
   "execution_count": 50,
   "metadata": {
    "id": "TvPJ2IGv-482"
   },
   "outputs": [],
   "source": [
    "num_col = ['amt','city_pop','is_fraud','distance']"
   ]
  },
  {
   "cell_type": "markdown",
   "metadata": {
    "id": "S5rXc_W7oVfQ"
   },
   "source": [
    "## 2.5 Label Encoding"
   ]
  },
  {
   "cell_type": "code",
   "execution_count": 51,
   "metadata": {
    "colab": {
     "base_uri": "https://localhost:8080/",
     "height": 202
    },
    "id": "d9uDXSrL-bdl",
    "outputId": "3caaed9d-57cc-412e-c894-e33fd1607faa"
   },
   "outputs": [
    {
     "data": {
      "text/html": [
       "<div>\n",
       "<style scoped>\n",
       "    .dataframe tbody tr th:only-of-type {\n",
       "        vertical-align: middle;\n",
       "    }\n",
       "\n",
       "    .dataframe tbody tr th {\n",
       "        vertical-align: top;\n",
       "    }\n",
       "\n",
       "    .dataframe thead th {\n",
       "        text-align: right;\n",
       "    }\n",
       "</style>\n",
       "<table border=\"1\" class=\"dataframe\">\n",
       "  <thead>\n",
       "    <tr style=\"text-align: right;\">\n",
       "      <th></th>\n",
       "      <th>merchant</th>\n",
       "      <th>category</th>\n",
       "      <th>amt</th>\n",
       "      <th>gender</th>\n",
       "      <th>street</th>\n",
       "      <th>city</th>\n",
       "      <th>state</th>\n",
       "      <th>city_pop</th>\n",
       "      <th>job</th>\n",
       "      <th>is_fraud</th>\n",
       "      <th>distance</th>\n",
       "      <th>age_group</th>\n",
       "    </tr>\n",
       "  </thead>\n",
       "  <tbody>\n",
       "    <tr>\n",
       "      <th>0</th>\n",
       "      <td>514</td>\n",
       "      <td>8</td>\n",
       "      <td>4.97</td>\n",
       "      <td>0</td>\n",
       "      <td>576</td>\n",
       "      <td>532</td>\n",
       "      <td>27</td>\n",
       "      <td>3495</td>\n",
       "      <td>372</td>\n",
       "      <td>0</td>\n",
       "      <td>78.773821</td>\n",
       "      <td>0</td>\n",
       "    </tr>\n",
       "    <tr>\n",
       "      <th>1</th>\n",
       "      <td>241</td>\n",
       "      <td>4</td>\n",
       "      <td>107.23</td>\n",
       "      <td>0</td>\n",
       "      <td>439</td>\n",
       "      <td>619</td>\n",
       "      <td>47</td>\n",
       "      <td>149</td>\n",
       "      <td>431</td>\n",
       "      <td>0</td>\n",
       "      <td>30.216618</td>\n",
       "      <td>1</td>\n",
       "    </tr>\n",
       "    <tr>\n",
       "      <th>2</th>\n",
       "      <td>390</td>\n",
       "      <td>0</td>\n",
       "      <td>220.11</td>\n",
       "      <td>1</td>\n",
       "      <td>610</td>\n",
       "      <td>474</td>\n",
       "      <td>13</td>\n",
       "      <td>4154</td>\n",
       "      <td>308</td>\n",
       "      <td>0</td>\n",
       "      <td>108.102912</td>\n",
       "      <td>3</td>\n",
       "    </tr>\n",
       "    <tr>\n",
       "      <th>3</th>\n",
       "      <td>360</td>\n",
       "      <td>2</td>\n",
       "      <td>45.00</td>\n",
       "      <td>1</td>\n",
       "      <td>945</td>\n",
       "      <td>84</td>\n",
       "      <td>26</td>\n",
       "      <td>1939</td>\n",
       "      <td>330</td>\n",
       "      <td>0</td>\n",
       "      <td>95.685115</td>\n",
       "      <td>2</td>\n",
       "    </tr>\n",
       "    <tr>\n",
       "      <th>4</th>\n",
       "      <td>297</td>\n",
       "      <td>9</td>\n",
       "      <td>41.96</td>\n",
       "      <td>1</td>\n",
       "      <td>422</td>\n",
       "      <td>217</td>\n",
       "      <td>45</td>\n",
       "      <td>99</td>\n",
       "      <td>116</td>\n",
       "      <td>0</td>\n",
       "      <td>77.702395</td>\n",
       "      <td>0</td>\n",
       "    </tr>\n",
       "  </tbody>\n",
       "</table>\n",
       "</div>"
      ],
      "text/plain": [
       "   merchant  category     amt  gender  ...  job  is_fraud    distance  age_group\n",
       "0       514         8    4.97       0  ...  372         0   78.773821          0\n",
       "1       241         4  107.23       0  ...  431         0   30.216618          1\n",
       "2       390         0  220.11       1  ...  308         0  108.102912          3\n",
       "3       360         2   45.00       1  ...  330         0   95.685115          2\n",
       "4       297         9   41.96       1  ...  116         0   77.702395          0\n",
       "\n",
       "[5 rows x 12 columns]"
      ]
     },
     "execution_count": 51,
     "metadata": {
      "tags": []
     },
     "output_type": "execute_result"
    }
   ],
   "source": [
    "# Import label encoder \n",
    "from sklearn import preprocessing \n",
    "  \n",
    "# label_encoder object knows how to understand word labels. \n",
    "label_encoder = preprocessing.LabelEncoder() \n",
    "  \n",
    "# Encode labels in column 'species'. \n",
    "for col in fraud.columns:\n",
    "  if col not in num_col:\n",
    "    fraud[col]= label_encoder.fit_transform(fraud[col]) \n",
    "  \n",
    "fraud.head()"
   ]
  },
  {
   "cell_type": "markdown",
   "metadata": {
    "id": "D0wz9mOb7QYG"
   },
   "source": [
    "Let's create mean encoding for merchant, street, city and job variables."
   ]
  },
  {
   "cell_type": "markdown",
   "metadata": {
    "id": "6rvXvS1yyDmt"
   },
   "source": [
    "##2.6 Train - Test Split"
   ]
  },
  {
   "cell_type": "code",
   "execution_count": 52,
   "metadata": {
    "colab": {
     "base_uri": "https://localhost:8080/"
    },
    "id": "Rqg6SAzXLUgS",
    "outputId": "02130650-f89f-442d-d8e5-46f0560ba7eb"
   },
   "outputs": [
    {
     "name": "stdout",
     "output_type": "stream",
     "text": [
      "(1296675, 12) (555719, 12)\n"
     ]
    }
   ],
   "source": [
    "# Separating Train and Test set\n",
    "train = fraud.iloc[:1296675,:]\n",
    "test = fraud.iloc[1296675:,:]\n",
    "print(train.shape, test.shape)"
   ]
  },
  {
   "cell_type": "code",
   "execution_count": 53,
   "metadata": {
    "id": "CEL7hN03A1YW"
   },
   "outputs": [],
   "source": [
    "# Putting feature variable to X_train and X_test\n",
    "X_train = train.drop('is_fraud', axis=1)\n",
    "X_test = test.drop('is_fraud', axis=1)\n",
    "\n",
    "# Putting response variable to y_train and y_test\n",
    "y_train = train['is_fraud']\n",
    "y_test = test['is_fraud']"
   ]
  },
  {
   "cell_type": "markdown",
   "metadata": {
    "id": "f_P6_KZHunN3"
   },
   "source": [
    "##2.7 Handle Class Imbalance"
   ]
  },
  {
   "cell_type": "code",
   "execution_count": 54,
   "metadata": {
    "colab": {
     "base_uri": "https://localhost:8080/"
    },
    "id": "Aa1aWcxRZbWw",
    "outputId": "9961effc-623c-4efe-b461-0904210b9595"
   },
   "outputs": [
    {
     "data": {
      "text/plain": [
       "0    0.99479\n",
       "1    0.00521\n",
       "Name: is_fraud, dtype: float64"
      ]
     },
     "execution_count": 54,
     "metadata": {
      "tags": []
     },
     "output_type": "execute_result"
    }
   ],
   "source": [
    "fraud['is_fraud'].value_counts(normalize=True)"
   ]
  },
  {
   "cell_type": "code",
   "execution_count": 55,
   "metadata": {
    "colab": {
     "base_uri": "https://localhost:8080/"
    },
    "id": "jvDTXYBMtkau",
    "outputId": "0bbf1fc5-c040-4f9c-a324-63958ad40bc5"
   },
   "outputs": [
    {
     "data": {
      "text/plain": [
       "0    0.994211\n",
       "1    0.005789\n",
       "Name: is_fraud, dtype: float64"
      ]
     },
     "execution_count": 55,
     "metadata": {
      "tags": []
     },
     "output_type": "execute_result"
    }
   ],
   "source": [
    "y_train.value_counts(normalize=True)"
   ]
  },
  {
   "cell_type": "markdown",
   "metadata": {
    "id": "ut3QgP9Ct5PL"
   },
   "source": [
    "The data set is highly imbalanced. Only 0.5% of the training data are fraudulent transactions. So I will handle the imbalanced dataset."
   ]
  },
  {
   "cell_type": "code",
   "execution_count": 56,
   "metadata": {
    "colab": {
     "base_uri": "https://localhost:8080/"
    },
    "id": "ADUxA-6at27F",
    "outputId": "c57cab4c-0ea3-4a03-fc84-dd80fe457543"
   },
   "outputs": [
    {
     "data": {
      "text/plain": [
       "2578338"
      ]
     },
     "execution_count": 56,
     "metadata": {
      "tags": []
     },
     "output_type": "execute_result"
    }
   ],
   "source": [
    "# SMOTE\n",
    "from imblearn.over_sampling import SMOTE\n",
    "smt = SMOTE(random_state=45, k_neighbors=5)\n",
    "X_resampled_smt, y_resampled_smt = smt.fit_resample(X_train, y_train)\n",
    "len(X_resampled_smt)"
   ]
  },
  {
   "cell_type": "markdown",
   "metadata": {
    "id": "LfIRGCKPVvMf"
   },
   "source": [
    "# 3. Model Building"
   ]
  },
  {
   "cell_type": "markdown",
   "metadata": {
    "id": "mSB-ZITLV0aD"
   },
   "source": [
    "#3.1 Logistic Regression"
   ]
  },
  {
   "cell_type": "code",
   "execution_count": 57,
   "metadata": {
    "id": "lbBS203cKrS2"
   },
   "outputs": [],
   "source": [
    "from sklearn.linear_model import LogisticRegression\n",
    "logreg = LogisticRegression()"
   ]
  },
  {
   "cell_type": "code",
   "execution_count": 58,
   "metadata": {
    "id": "rNFzEYZbHV9U"
   },
   "outputs": [],
   "source": [
    "logreg.fit(X_resampled_smt, y_resampled_smt)\n",
    "y_pred_smt = logreg.predict(X_test)"
   ]
  },
  {
   "cell_type": "code",
   "execution_count": 59,
   "metadata": {
    "id": "blhzanmhHt4v"
   },
   "outputs": [],
   "source": [
    "from sklearn.model_selection import GridSearchCV\n",
    "from sklearn.model_selection import StratifiedKFold\n",
    "from sklearn.metrics import accuracy_score\n",
    "from sklearn.model_selection import RandomizedSearchCV\n",
    "from sklearn.metrics import roc_auc_score\n",
    "from sklearn.metrics import roc_curve,roc_auc_score, precision_recall_curve, average_precision_score\n",
    "from sklearn.metrics import precision_score, recall_score, confusion_matrix, classification_report, accuracy_score, f1_score"
   ]
  },
  {
   "cell_type": "code",
   "execution_count": 60,
   "metadata": {
    "colab": {
     "base_uri": "https://localhost:8080/"
    },
    "id": "6CQspxTAK-UF",
    "outputId": "f4bb2a47-374f-4bcb-fc64-4a5457806996"
   },
   "outputs": [
    {
     "name": "stdout",
     "output_type": "stream",
     "text": [
      "Accuracy:  0.8472163075593657\n",
      "F1 score:  0.8326081192251994\n",
      "Recall:  0.7599469115375874\n",
      "Precision:  0.9206331008806015\n",
      "ROC AUC :  0.8472163075593658\n",
      "\n",
      " clasification report:\n",
      "               precision    recall  f1-score   support\n",
      "\n",
      "           0       0.80      0.93      0.86   1289169\n",
      "           1       0.92      0.76      0.83   1289169\n",
      "\n",
      "    accuracy                           0.85   2578338\n",
      "   macro avg       0.86      0.85      0.85   2578338\n",
      "weighted avg       0.86      0.85      0.85   2578338\n",
      "\n",
      "\n",
      " confussion matrix:\n",
      " [[1204710   84459]\n",
      " [ 309469  979700]]\n"
     ]
    }
   ],
   "source": [
    "# Evaluation on Train Set\n",
    "print ('Accuracy: ', accuracy_score(y_resampled_smt,logreg.predict(X_resampled_smt)))\n",
    "print ('F1 score: ', f1_score(y_resampled_smt,logreg.predict(X_resampled_smt)))\n",
    "print ('Recall: ', recall_score(y_resampled_smt,logreg.predict(X_resampled_smt)))\n",
    "print ('Precision: ', precision_score(y_resampled_smt,logreg.predict(X_resampled_smt)))\n",
    "print ('ROC AUC : ', roc_auc_score(y_resampled_smt,logreg.predict(X_resampled_smt)))\n",
    "print ('\\n clasification report:\\n', classification_report(y_resampled_smt,logreg.predict(X_resampled_smt)))\n",
    "print ('\\n confussion matrix:\\n',confusion_matrix(y_resampled_smt,logreg.predict(X_resampled_smt)))"
   ]
  },
  {
   "cell_type": "code",
   "execution_count": 61,
   "metadata": {
    "colab": {
     "base_uri": "https://localhost:8080/"
    },
    "id": "ZI0fDggpHpXa",
    "outputId": "819e8377-fb5c-4fef-8d03-d0180e58b39d"
   },
   "outputs": [
    {
     "name": "stdout",
     "output_type": "stream",
     "text": [
      "Accuracy:  0.9343841041965454\n",
      "F1 score:  0.08132621183109946\n",
      "Recall:  0.7524475524475525\n",
      "Precision:  0.0429861240578475\n",
      "ROC AUC :  0.8437683140814068\n",
      "\n",
      " clasification report:\n",
      "               precision    recall  f1-score   support\n",
      "\n",
      "           0       1.00      0.94      0.97    553574\n",
      "           1       0.04      0.75      0.08      2145\n",
      "\n",
      "    accuracy                           0.93    555719\n",
      "   macro avg       0.52      0.84      0.52    555719\n",
      "weighted avg       1.00      0.93      0.96    555719\n",
      "\n",
      "\n",
      " confussion matrix:\n",
      " [[517641  35933]\n",
      " [   531   1614]]\n"
     ]
    }
   ],
   "source": [
    "# Evaluation on Test Set\n",
    "print ('Accuracy: ', accuracy_score(y_test, y_pred_smt))\n",
    "print ('F1 score: ', f1_score(y_test, y_pred_smt))\n",
    "print ('Recall: ', recall_score(y_test, y_pred_smt))\n",
    "print ('Precision: ', precision_score(y_test, y_pred_smt))\n",
    "print ('ROC AUC : ', roc_auc_score(y_test, y_pred_smt))\n",
    "print ('\\n clasification report:\\n', classification_report(y_test,y_pred_smt))\n",
    "print ('\\n confussion matrix:\\n',confusion_matrix(y_test, y_pred_smt))"
   ]
  },
  {
   "cell_type": "markdown",
   "metadata": {
    "id": "B8RniCEuejCV"
   },
   "source": [
    "#### Observation:\n",
    "\n",
    "- Accuracy is good in case of test set predictions.\n",
    "- Recall value is almost same in both train and test set."
   ]
  },
  {
   "cell_type": "markdown",
   "metadata": {
    "id": "-nJeKt6tfNQM"
   },
   "source": [
    "## 3.2  Logistic Regression Using Grid Search"
   ]
  },
  {
   "cell_type": "code",
   "execution_count": 62,
   "metadata": {
    "id": "kLuyKheRYXXc"
   },
   "outputs": [],
   "source": [
    "from imblearn.metrics import sensitivity_specificity_support\n",
    "from sklearn.model_selection import GridSearchCV\n",
    "# Number of folds\n",
    "n_folds = 5\n",
    "# parameters \n",
    "params ={'C': [0.1, 0.5, 1, 2, 3, 4, 5, 10], 'penalty': ['l1', 'l2']}\n",
    "model_lrh = GridSearchCV(estimator=logreg, cv=n_folds, param_grid=params, scoring='roc_auc', n_jobs=-1, verbose=1)"
   ]
  },
  {
   "cell_type": "code",
   "execution_count": 63,
   "metadata": {
    "colab": {
     "base_uri": "https://localhost:8080/"
    },
    "id": "JDwY5iaiaXZp",
    "outputId": "3d3f5ac6-d474-4d3c-bd7c-ad72261c2b31"
   },
   "outputs": [
    {
     "name": "stdout",
     "output_type": "stream",
     "text": [
      "Fitting 5 folds for each of 16 candidates, totalling 80 fits\n"
     ]
    },
    {
     "name": "stderr",
     "output_type": "stream",
     "text": [
      "[Parallel(n_jobs=-1)]: Using backend LokyBackend with 2 concurrent workers.\n",
      "[Parallel(n_jobs=-1)]: Done  46 tasks      | elapsed:  7.2min\n",
      "[Parallel(n_jobs=-1)]: Done  80 out of  80 | elapsed: 13.5min finished\n"
     ]
    },
    {
     "data": {
      "text/plain": [
       "GridSearchCV(cv=5, error_score=nan,\n",
       "             estimator=LogisticRegression(C=1.0, class_weight=None, dual=False,\n",
       "                                          fit_intercept=True,\n",
       "                                          intercept_scaling=1, l1_ratio=None,\n",
       "                                          max_iter=100, multi_class='auto',\n",
       "                                          n_jobs=None, penalty='l2',\n",
       "                                          random_state=None, solver='lbfgs',\n",
       "                                          tol=0.0001, verbose=0,\n",
       "                                          warm_start=False),\n",
       "             iid='deprecated', n_jobs=-1,\n",
       "             param_grid={'C': [0.1, 0.5, 1, 2, 3, 4, 5, 10],\n",
       "                         'penalty': ['l1', 'l2']},\n",
       "             pre_dispatch='2*n_jobs', refit=True, return_train_score=False,\n",
       "             scoring='roc_auc', verbose=1)"
      ]
     },
     "execution_count": 63,
     "metadata": {
      "tags": []
     },
     "output_type": "execute_result"
    }
   ],
   "source": [
    "# Fitting the model\n",
    "model_lrh.fit(X_resampled_smt,y_resampled_smt)"
   ]
  },
  {
   "cell_type": "code",
   "execution_count": 64,
   "metadata": {
    "colab": {
     "base_uri": "https://localhost:8080/"
    },
    "id": "Tz8jkXCMamLJ",
    "outputId": "80071222-dca5-484d-f6e3-10ff1fffe396"
   },
   "outputs": [
    {
     "name": "stdout",
     "output_type": "stream",
     "text": [
      "Logistic Regression with Best AUC :  0.8561060434991692\n",
      "Logistic Regression with Best hyperparameters:  {'C': 0.5, 'penalty': 'l2'}\n"
     ]
    }
   ],
   "source": [
    "print(\"Logistic Regression with Best AUC : \", model_lrh.best_score_)\n",
    "print(\"Logistic Regression with Best hyperparameters: \", model_lrh.best_params_)"
   ]
  },
  {
   "cell_type": "code",
   "execution_count": 65,
   "metadata": {
    "id": "3Fcc4i_sarYV"
   },
   "outputs": [],
   "source": [
    "# Passing the best parameteres\n",
    "model_lrh_tuned = LogisticRegression(penalty='l2',C=5)"
   ]
  },
  {
   "cell_type": "code",
   "execution_count": 66,
   "metadata": {
    "id": "b4FNgZwHav6u"
   },
   "outputs": [],
   "source": [
    "# Prediction on Test Set\n",
    "model_lrh_tuned.fit(X_resampled_smt,y_resampled_smt)\n",
    "y_predicted = model_lrh_tuned.predict(X_test)"
   ]
  },
  {
   "cell_type": "code",
   "execution_count": 67,
   "metadata": {
    "colab": {
     "base_uri": "https://localhost:8080/"
    },
    "id": "zmjqFF05P4bh",
    "outputId": "355d212e-db29-4cc8-9897-a5a0ed72a6d6"
   },
   "outputs": [
    {
     "name": "stdout",
     "output_type": "stream",
     "text": [
      "Classification report:\n",
      "               precision    recall  f1-score   support\n",
      "\n",
      "           0       0.80      0.94      0.86   1289169\n",
      "           1       0.92      0.76      0.83   1289169\n",
      "\n",
      "    accuracy                           0.85   2578338\n",
      "   macro avg       0.86      0.85      0.85   2578338\n",
      "weighted avg       0.86      0.85      0.85   2578338\n",
      "\n",
      "Confusion matrix:\n",
      " [[1209539   79630]\n",
      " [ 311488  977681]]\n",
      "Logistic Regression Accuracy:  0.8483061569119332\n",
      "ROC AUC :  0.8483061569119331\n"
     ]
    }
   ],
   "source": [
    "# Evaluation on Train set\n",
    "print('Classification report:\\n', classification_report(y_resampled_smt, model_lrh_tuned.predict(X_resampled_smt)))\n",
    "print('Confusion matrix:\\n',confusion_matrix(y_resampled_smt, model_lrh_tuned.predict(X_resampled_smt)))\n",
    "print(\"Logistic Regression Accuracy: \",accuracy_score(y_resampled_smt, model_lrh_tuned.predict(X_resampled_smt)))\n",
    "print('ROC AUC : ', roc_auc_score(y_resampled_smt, model_lrh_tuned.predict(X_resampled_smt)))"
   ]
  },
  {
   "cell_type": "code",
   "execution_count": 68,
   "metadata": {
    "colab": {
     "base_uri": "https://localhost:8080/"
    },
    "id": "dCtzSi60a7b5",
    "outputId": "93fd370c-e4ac-4f56-b0e3-717c2a5973ce"
   },
   "outputs": [
    {
     "name": "stdout",
     "output_type": "stream",
     "text": [
      "Classification report:\n",
      "               precision    recall  f1-score   support\n",
      "\n",
      "           0       1.00      0.94      0.97    553574\n",
      "           1       0.05      0.75      0.09      2145\n",
      "\n",
      "    accuracy                           0.94    555719\n",
      "   macro avg       0.52      0.85      0.53    555719\n",
      "weighted avg       1.00      0.94      0.96    555719\n",
      "\n",
      "Confusion matrix:\n",
      " [[519833  33741]\n",
      " [   530   1615]]\n",
      "Logistic Regression Accuracy:  0.9383303432130268\n",
      "ROC AUC :  0.8459812760854718\n"
     ]
    }
   ],
   "source": [
    "#Evaluation on Test set\n",
    "print('Classification report:\\n', classification_report(y_test, y_predicted))\n",
    "print('Confusion matrix:\\n',confusion_matrix(y_true = y_test, y_pred = y_predicted))\n",
    "print(\"Logistic Regression Accuracy: \",accuracy_score(y_test,y_predicted))\n",
    "print('ROC AUC : ', roc_auc_score(y_test, y_predicted))"
   ]
  },
  {
   "cell_type": "code",
   "execution_count": 69,
   "metadata": {
    "id": "oQqU7MXmbXHW"
   },
   "outputs": [],
   "source": [
    "# Function for roc_curve\n",
    "def plot_roc_curve(fpr,tpr,roc_auc):\n",
    "    plt.plot(fpr, tpr, linewidth=5, label='AUC = %0.3f'% roc_auc)\n",
    "    plt.plot([0,1],[0,1], linewidth=5)\n",
    "    plt.xlim([-0.01, 1])\n",
    "    plt.ylim([0, 1.01])\n",
    "    plt.legend(loc='upper right')\n",
    "    plt.title('Receiver operating characteristic curve (ROC)')\n",
    "    plt.ylabel('True Positive Rate')\n",
    "    plt.xlabel('False Positive Rate')\n",
    "    plt.show()"
   ]
  },
  {
   "cell_type": "code",
   "execution_count": 70,
   "metadata": {
    "colab": {
     "base_uri": "https://localhost:8080/",
     "height": 404
    },
    "id": "2UCXitLDbdHG",
    "outputId": "f1111c57-4e76-482e-9166-6d6ebb4617ec"
   },
   "outputs": [
    {
     "data": {
      "image/png": "[encoded data removed]",
      "text/plain": [
       "<Figure size 432x432 with 1 Axes>"
      ]
     },
     "metadata": {
      "needs_background": "light",
      "tags": []
     },
     "output_type": "display_data"
    }
   ],
   "source": [
    "# Create true and false positive rates\n",
    "fpr, tpr, threshold = roc_curve(y_test, y_predicted)\n",
    "roc_auc = roc_auc_score(y_test, y_predicted)\n",
    "# Plot the roc curve \n",
    "plt.rcParams['figure.figsize'] = [6,6]\n",
    "plot_roc_curve(fpr,tpr,roc_auc)"
   ]
  },
  {
   "cell_type": "markdown",
   "metadata": {
    "id": "uqMqcepLlrr2"
   },
   "source": [
    "## 3.3  Decision Tree"
   ]
  },
  {
   "cell_type": "code",
   "execution_count": 71,
   "metadata": {
    "id": "b7Agv3mTb39m"
   },
   "outputs": [],
   "source": [
    "#Decision Tree - SMOTE\n",
    "from sklearn.tree import DecisionTreeClassifier\n",
    "dt = DecisionTreeClassifier(random_state=0)\n",
    "dt.fit(X_resampled_smt,y_resampled_smt)\n",
    "\n",
    "y_pred_dt = dt.predict(X_test)"
   ]
  },
  {
   "cell_type": "code",
   "execution_count": 72,
   "metadata": {
    "colab": {
     "base_uri": "https://localhost:8080/"
    },
    "id": "LAqYqAEFbhsV",
    "outputId": "f68befd2-536f-4de3-e84d-81eab7bbab21"
   },
   "outputs": [
    {
     "name": "stdout",
     "output_type": "stream",
     "text": [
      "Accuracy:  1.0\n",
      "F1 score:  1.0\n",
      "Recall:  1.0\n",
      "Precision:  1.0\n",
      "ROC AUC :  1.0\n",
      "\n",
      " clasification report:\n",
      "               precision    recall  f1-score   support\n",
      "\n",
      "           0       1.00      1.00      1.00   1289169\n",
      "           1       1.00      1.00      1.00   1289169\n",
      "\n",
      "    accuracy                           1.00   2578338\n",
      "   macro avg       1.00      1.00      1.00   2578338\n",
      "weighted avg       1.00      1.00      1.00   2578338\n",
      "\n",
      "\n",
      " confussion matrix:\n",
      " [[1289169       0]\n",
      " [      0 1289169]]\n"
     ]
    }
   ],
   "source": [
    "# Evaluation on Train Set\n",
    "print ('Accuracy: ', accuracy_score(y_resampled_smt, dt.predict(X_resampled_smt)))\n",
    "print ('F1 score: ', f1_score(y_resampled_smt, dt.predict(X_resampled_smt)))\n",
    "print ('Recall: ', recall_score(y_resampled_smt, dt.predict(X_resampled_smt)))\n",
    "print ('Precision: ', precision_score(y_resampled_smt, dt.predict(X_resampled_smt)))\n",
    "print ('ROC AUC : ', roc_auc_score(y_resampled_smt, dt.predict(X_resampled_smt)))\n",
    "print ('\\n clasification report:\\n', classification_report(y_resampled_smt, dt.predict(X_resampled_smt)))\n",
    "print ('\\n confussion matrix:\\n',confusion_matrix(y_resampled_smt, dt.predict(X_resampled_smt)))"
   ]
  },
  {
   "cell_type": "code",
   "execution_count": 73,
   "metadata": {
    "colab": {
     "base_uri": "https://localhost:8080/"
    },
    "id": "cNj12aUVb5h-",
    "outputId": "7ddc0076-d950-44ff-9ba4-b9176595418c"
   },
   "outputs": [
    {
     "name": "stdout",
     "output_type": "stream",
     "text": [
      "Accuracy:  0.9958900091593054\n",
      "F1 score:  0.54191736863217\n",
      "Recall:  0.6298368298368299\n",
      "Precision:  0.47553678282294964\n",
      "ROC AUC :  0.813572614718261\n",
      "\n",
      " clasification report:\n",
      "               precision    recall  f1-score   support\n",
      "\n",
      "           0       1.00      1.00      1.00    553574\n",
      "           1       0.48      0.63      0.54      2145\n",
      "\n",
      "    accuracy                           1.00    555719\n",
      "   macro avg       0.74      0.81      0.77    555719\n",
      "weighted avg       1.00      1.00      1.00    555719\n",
      "\n",
      "\n",
      " confussion matrix:\n",
      " [[552084   1490]\n",
      " [   794   1351]]\n"
     ]
    }
   ],
   "source": [
    "# Evaluation on Test Set\n",
    "print ('Accuracy: ', accuracy_score(y_test, y_pred_dt))\n",
    "print ('F1 score: ', f1_score(y_test, y_pred_dt))\n",
    "print ('Recall: ', recall_score(y_test, y_pred_dt))\n",
    "print ('Precision: ', precision_score(y_test, y_pred_dt))\n",
    "print ('ROC AUC : ', roc_auc_score(y_test, y_pred_dt))\n",
    "print ('\\n clasification report:\\n', classification_report(y_test,y_pred_dt))\n",
    "print ('\\n confussion matrix:\\n',confusion_matrix(y_test, y_pred_dt))"
   ]
  },
  {
   "cell_type": "markdown",
   "metadata": {
    "id": "crXfUdlggG7R"
   },
   "source": [
    "#### Observation:\n",
    "\n",
    "- Training and Test accuracy is good.\n",
    "- Recall value on Test set is around 63%"
   ]
  },
  {
   "cell_type": "markdown",
   "metadata": {
    "id": "TXcL1j0Hlyna"
   },
   "source": [
    "## 3.4 Random Forest"
   ]
  },
  {
   "cell_type": "code",
   "execution_count": 78,
   "metadata": {
    "id": "5PxYziAtHcYC"
   },
   "outputs": [],
   "source": [
    "#Random Forest  - Base\n",
    "from sklearn.ensemble import RandomForestClassifier\n",
    "rf = RandomForestClassifier()\n",
    "rf.fit(X_resampled_smt, y_resampled_smt)\n",
    "\n",
    "y_pred_rf = rf.predict(X_test)"
   ]
  },
  {
   "cell_type": "code",
   "execution_count": 79,
   "metadata": {
    "colab": {
     "base_uri": "https://localhost:8080/"
    },
    "id": "7jojebZkdQNF",
    "outputId": "c58b3eb1-5aac-46f0-dd68-4b52171de588"
   },
   "outputs": [
    {
     "name": "stdout",
     "output_type": "stream",
     "text": [
      "Accuracy:  1.0\n",
      "F1 score:  1.0\n",
      "Recall:  1.0\n",
      "Precision:  1.0\n",
      "ROC AUC :  1.0\n",
      "\n",
      " clasification report:\n",
      "               precision    recall  f1-score   support\n",
      "\n",
      "           0       1.00      1.00      1.00   1289169\n",
      "           1       1.00      1.00      1.00   1289169\n",
      "\n",
      "    accuracy                           1.00   2578338\n",
      "   macro avg       1.00      1.00      1.00   2578338\n",
      "weighted avg       1.00      1.00      1.00   2578338\n",
      "\n",
      "\n",
      " confussion matrix:\n",
      " [[1289169       0]\n",
      " [      0 1289169]]\n"
     ]
    }
   ],
   "source": [
    "# Evaluation on Train Set\n",
    "print ('Accuracy: ', accuracy_score(y_resampled_smt, rf.predict(X_resampled_smt)))\n",
    "print ('F1 score: ', f1_score(y_resampled_smt, rf.predict(X_resampled_smt)))\n",
    "print ('Recall: ', recall_score(y_resampled_smt, rf.predict(X_resampled_smt)))\n",
    "print ('Precision: ', precision_score(y_resampled_smt, rf.predict(X_resampled_smt)))\n",
    "print ('ROC AUC : ', roc_auc_score(y_resampled_smt, rf.predict(X_resampled_smt)))\n",
    "print ('\\n clasification report:\\n', classification_report(y_resampled_smt, rf.predict(X_resampled_smt)))\n",
    "print ('\\n confussion matrix:\\n',confusion_matrix(y_resampled_smt, rf.predict(X_resampled_smt)))"
   ]
  },
  {
   "cell_type": "code",
   "execution_count": 80,
   "metadata": {
    "colab": {
     "base_uri": "https://localhost:8080/"
    },
    "id": "2BmLg1VaHfES",
    "outputId": "8efd1f74-729b-42c9-dc1d-0acf1356b646"
   },
   "outputs": [
    {
     "name": "stdout",
     "output_type": "stream",
     "text": [
      "Accuracy:  0.9968851163987554\n",
      "F1 score:  0.5997687861271677\n",
      "Recall:  0.6046620046620047\n",
      "Precision:  0.594954128440367\n",
      "ROC AUC :  0.8015334576486293\n",
      "\n",
      " clasification report:\n",
      "               precision    recall  f1-score   support\n",
      "\n",
      "           0       1.00      1.00      1.00    553574\n",
      "           1       0.59      0.60      0.60      2145\n",
      "\n",
      "    accuracy                           1.00    555719\n",
      "   macro avg       0.80      0.80      0.80    555719\n",
      "weighted avg       1.00      1.00      1.00    555719\n",
      "\n",
      "\n",
      " confussion matrix:\n",
      " [[552691    883]\n",
      " [   848   1297]]\n"
     ]
    }
   ],
   "source": [
    "# Evaluation on Test Set\n",
    "print ('Accuracy: ', accuracy_score(y_test, y_pred_rf))\n",
    "print ('F1 score: ', f1_score(y_test, y_pred_rf))\n",
    "print ('Recall: ', recall_score(y_test, y_pred_rf))\n",
    "print ('Precision: ', precision_score(y_test, y_pred_rf))\n",
    "print ('ROC AUC : ', roc_auc_score(y_test, y_pred_rf))\n",
    "print ('\\n clasification report:\\n', classification_report(y_test,y_pred_rf))\n",
    "print ('\\n confussion matrix:\\n',confusion_matrix(y_test, y_pred_rf))"
   ]
  },
  {
   "cell_type": "markdown",
   "metadata": {
    "id": "0RWzkdz90GkX"
   },
   "source": [
    "#### Observation:\n",
    "\n",
    "- Training and Test accuracy is good.\n",
    "- Recall Value on Test set is around 59%"
   ]
  },
  {
   "cell_type": "markdown",
   "metadata": {
    "id": "RBoaFTo0mgyY"
   },
   "source": [
    "## 3.5 Hyperparamater Tuning"
   ]
  },
  {
   "cell_type": "code",
   "execution_count": 81,
   "metadata": {
    "id": "nnXGp7qWl5ki"
   },
   "outputs": [],
   "source": [
    "# Defining Parameters\n",
    "params = { \n",
    "    'n_estimators': [200, 400],\n",
    "    'max_depth' : [4,5,6,7,8]\n",
    "}"
   ]
  },
  {
   "cell_type": "code",
   "execution_count": 82,
   "metadata": {
    "id": "L5KwXja8l_LD"
   },
   "outputs": [],
   "source": [
    "# Stratified K Fold\n",
    "cross_val = StratifiedKFold(n_splits=3)\n",
    "index_iterator = cross_val.split(X_resampled_smt,y_resampled_smt)\n",
    "clf = RandomForestClassifier()\n",
    "clf_random = RandomizedSearchCV(estimator = clf, param_distributions = params, n_iter = 50, cv = cross_val,\n",
    "                                verbose=1, random_state=42, n_jobs = -1,scoring='recall')"
   ]
  },
  {
   "cell_type": "code",
   "execution_count": null,
   "metadata": {
    "colab": {
     "base_uri": "https://localhost:8080/"
    },
    "id": "hGWDShs-mDrq",
    "outputId": "fd6b8464-a1fd-4d8b-cbcc-15ba6fdf60a2"
   },
   "outputs": [
    {
     "name": "stdout",
     "output_type": "stream",
     "text": [
      "Fitting 3 folds for each of 10 candidates, totalling 30 fits\n"
     ]
    },
    {
     "name": "stderr",
     "output_type": "stream",
     "text": [
      "[Parallel(n_jobs=-1)]: Using backend LokyBackend with 2 concurrent workers.\n"
     ]
    }
   ],
   "source": [
    "# Fitting the model on train data\n",
    "clf_random.fit(X_resampled_smt, y_resampled_smt)"
   ]
  },
  {
   "cell_type": "code",
   "execution_count": 75,
   "metadata": {
    "id": "OwOYHECZmbyY"
   },
   "outputs": [],
   "source": [
    "# Passing the best parameteres based on Randomized Search CV\n",
    "from sklearn.ensemble import RandomForestClassifier\n",
    "model_rfc_tuned = RandomForestClassifier(bootstrap=True,\n",
    "                                class_weight={0:1, 1:12}, # 0: non-fraud , 1:fraud\n",
    "                                criterion='gini',\n",
    "                                max_depth=5,\n",
    "                                max_features='sqrt',\n",
    "                                min_samples_leaf=10,\n",
    "                                n_estimators=200,\n",
    "                                n_jobs=-1, \n",
    "                                random_state=42)"
   ]
  },
  {
   "cell_type": "code",
   "execution_count": 76,
   "metadata": {
    "id": "mCeIFkiXHlXZ"
   },
   "outputs": [],
   "source": [
    "# Fitting the model on Train data and Predicting on Test Data\n",
    "\n",
    "model_rfc_tuned.fit(X_resampled_smt,y_resampled_smt)\n",
    "y_predicted = model_rfc_tuned.predict(X_test)"
   ]
  },
  {
   "cell_type": "code",
   "execution_count": 77,
   "metadata": {
    "colab": {
     "base_uri": "https://localhost:8080/"
    },
    "id": "H4RsnPZbpM8t",
    "outputId": "872f8f55-334f-4972-b2fc-dd142ba33ecb"
   },
   "outputs": [
    {
     "name": "stdout",
     "output_type": "stream",
     "text": [
      "Accuracy:  0.2208418283341041\n",
      "F1 score:  0.009719995517366773\n",
      "Recall:  0.9906759906759907\n",
      "Precision:  0.004883957177463468\n",
      "ROC AUC :  0.604267424827097\n",
      "\n",
      " clasification report:\n",
      "               precision    recall  f1-score   support\n",
      "\n",
      "           0       1.00      0.22      0.36    553574\n",
      "           1       0.00      0.99      0.01      2145\n",
      "\n",
      "    accuracy                           0.22    555719\n",
      "   macro avg       0.50      0.60      0.18    555719\n",
      "weighted avg       1.00      0.22      0.36    555719\n",
      "\n",
      "\n",
      " confussion matrix:\n",
      " [[120601 432973]\n",
      " [    20   2125]]\n"
     ]
    }
   ],
   "source": [
    "print ('Accuracy: ', accuracy_score(y_test, y_predicted))\n",
    "print ('F1 score: ', f1_score(y_test, y_predicted))\n",
    "print ('Recall: ', recall_score(y_test, y_predicted))\n",
    "print ('Precision: ', precision_score(y_test, y_predicted))\n",
    "print ('ROC AUC : ', roc_auc_score(y_test, y_predicted))\n",
    "print ('\\n clasification report:\\n', classification_report(y_test,y_predicted))\n",
    "print ('\\n confussion matrix:\\n',confusion_matrix(y_test, y_predicted))"
   ]
  },
  {
   "cell_type": "markdown",
   "metadata": {
    "id": "DvWCXYaVhiFH"
   },
   "source": [
    "- Accuracy on the test set is poor. So we will not consider this model."
   ]
  },
  {
   "cell_type": "markdown",
   "metadata": {
    "id": "IdFUI4K6pjlC"
   },
   "source": [
    "# 4. Conclusion\n",
    "\n",
    "- Logistic Regression model holds good to correctly identify the fraudulent transactions with a recall value of 75%."
   ]
  }
 ],
 "metadata": {
  "colab": {
   "collapsed_sections": [],
   "name": "Credit Card Fraud Detection.ipynb",
   "provenance": []
  },
  "kernelspec": {
   "display_name": "Python 3",
   "language": "python",
   "name": "python3"
  },
  "language_info": {
   "codemirror_mode": {
    "name": "ipython",
    "version": 3
   },
   "file_extension": ".py",
   "mimetype": "text/x-python",
   "name": "python",
   "nbconvert_exporter": "python",
   "pygments_lexer": "ipython3",
   "version": "3.8.3"
  }
 },
 "nbformat": 4,
 "nbformat_minor": 1
}
